{
  "cells": [
    {
      "cell_type": "markdown",
      "metadata": {
        "id": "view-in-github",
        "colab_type": "text"
      },
      "source": [
        "<a href=\"https://colab.research.google.com/github/CesarAlejandroSoto/Arquitectura-de-Computadores/blob/main/Proyecto_1_Logica_booleana.ipynb\" target=\"_parent\"><img src=\"https://colab.research.google.com/assets/colab-badge.svg\" alt=\"Open In Colab\"/></a>"
      ]
    },
    {
      "cell_type": "markdown",
      "metadata": {
        "id": "_SnUcT66Ry3p"
      },
      "source": [
        "**<h1 style=\"font-size: 160 px;\">Integrantes</h1>**\n",
        "\n",
        "\n",
        "\n",
        "*   CESAR ALEJANDRO SOTO PAIPA\n",
        "*   JEISON FERNANDO GUARGUATI ANAYA\n",
        "*   MARCOS JOSE ORJUELA MURILLO\n",
        "\n"
      ]
    },
    {
      "cell_type": "markdown",
      "metadata": {
        "id": "kXy1aMBVS7Jc"
      },
      "source": [
        "**<h1 style=\"font-size: 160 px;\">Objetivos</h1>**\n",
        "\n",
        "Construir los siguientes chips, usando cualquier lenguaje de programacion.\n",
        "\n",
        "* Nand (given)\n",
        "\n",
        "* Not\n",
        "\n",
        "* And\n",
        "\n",
        "* Or\n",
        "\n",
        "* Xor\n",
        "\n",
        "* Mux\n",
        "\n",
        "* DMux\n",
        "\n",
        "* Not16\n",
        "\n",
        "* And16\n",
        "\n",
        "* Or16\n",
        "\n",
        "* Mux16\n",
        "\n",
        "* Or8Way\n",
        "\n",
        "* Mux4Way16\n",
        "\n",
        "* Mux8Way16\n",
        "\n",
        "* DMux4Way\n",
        "\n",
        "* DMux8Way"
      ]
    },
    {
      "cell_type": "markdown",
      "metadata": {
        "id": "-1ZW9XgDTo2p"
      },
      "source": [
        "# Para este proyecto decidimos trabajar con python, tomando tambien como referencia los scripts de ejemplo dados en la documentacion de nand2tetris"
      ]
    },
    {
      "cell_type": "code",
      "execution_count": null,
      "metadata": {
        "id": "3gKJKVreUZ0Z"
      },
      "outputs": [],
      "source": [
        "# Script General de la implementación de todas las compuertas partiendo desde la Nand\n",
        "\n",
        "# Compuerta NAND: Realiza la operación lógica NAND sobre dos entradas.\n",
        "# Retorna 1 si no es verdad (no a AND b), de lo contrario, retorna 0.\n",
        "def NAND(a, b):\n",
        "    return 1 if not (a and b) else 0\n",
        "\n",
        "# Compuerta NOT: Invierte el valor de la entrada utilizando una NAND.\n",
        "def NOT(a):\n",
        "    return NAND(a, a)\n",
        "\n",
        "# Compuerta AND: Realiza la operación lógica AND utilizando una NOT sobre la salida de una NAND.\n",
        "def AND(a, b):\n",
        "    return NOT(NAND(a, b))\n",
        "\n",
        "# Compuerta OR: Realiza la operación lógica OR utilizando NOT y NAND.\n",
        "def OR(a, b):\n",
        "    return NAND(NOT(a), NOT(b))\n",
        "\n",
        "# Compuerta XOR: Realiza la operación lógica XOR utilizando AND, NAND y OR.\n",
        "def XOR(a, b):\n",
        "    return AND(NAND(a, b), OR(a, b))\n",
        "\n",
        "# Multiplexor (MUX): Selecciona entre dos entradas a y b basándose en la señal de selección (sel).\n",
        "def MUX(a, b, sel):\n",
        "    return OR(AND(a, NOT(sel)), AND(b, sel))\n",
        "\n",
        "# Demultiplexor (DMUX): Distribuye una entrada (inp) en dos salidas dependiendo de la señal de selección (sel).\n",
        "def DMUX(inp, sel):\n",
        "    return (AND(inp, NOT(sel)), AND(inp, sel))\n",
        "\n",
        "# Compuerta NOT16: Invierte cada bit de una lista de 16 bits.\n",
        "def NOT16(a):\n",
        "    return [NOT(bit) for bit in a]\n",
        "\n",
        "# Compuerta AND16: Realiza la operación lógica AND entre cada par de bits de dos listas de 16 bits.\n",
        "def AND16(a, b):\n",
        "    return [AND(a[i], b[i]) for i in range(16)]\n",
        "\n",
        "# Compuerta OR16: Realiza la operación lógica OR entre cada par de bits de dos listas de 16 bits.\n",
        "def OR16(a, b):\n",
        "    return [OR(a[i], b[i]) for i in range(16)]\n",
        "\n",
        "# Multiplexor de 16 bits (MUX16): Selecciona entre las entradas a y b bit a bit, dependiendo de la señal de selección (sel).\n",
        "def MUX16(a, b, sel):\n",
        "    return [MUX(a[i], b[i], sel) for i in range(16)]\n",
        "\n",
        "# Compuerta OR de 8 entradas (OR8Way): Realiza una operación OR entre un conjunto de 8 entradas.\n",
        "def OR8Way(a):\n",
        "    return OR(OR(OR(a[0], a[1]), OR(a[2], a[3])), OR(OR(a[4], a[5]), OR(a[6], a[7])))\n",
        "\n",
        "# Multiplexor de 4 entradas de 16 bits (MUX4Way16): Selecciona entre cuatro entradas de 16 bits en función de las señales de selección (sel).\n",
        "def MUX4Way16(a, b, c, d, sel):\n",
        "    return MUX16(MUX16(a, b, sel[0]), MUX16(c, d, sel[0]), sel[1])\n",
        "\n",
        "# Multiplexor de 8 entradas de 16 bits (MUX8Way16): Selecciona entre ocho entradas de 16 bits en función de las señales de selección (sel).\n",
        "def MUX8Way16(a, b, c, d, e, f, g, h, sel):\n",
        "    return MUX16(MUX4Way16(a, b, c, d, sel[:2]), MUX4Way16(e, f, g, h, sel[:2]), sel[2])\n",
        "\n",
        "# Demultiplexor de 4 entradas (DMUX4Way): Distribuye una entrada de 16 bits en 4 salidas en función de las señales de selección (sel).\n",
        "def DMUX4Way(inp, sel):\n",
        "    a, b = DMUX(inp, sel[1])\n",
        "    a0, a1 = DMUX(a, sel[0])\n",
        "    b0, b1 = DMUX(b, sel[0])\n",
        "    return a0, a1, b0, b1\n",
        "\n",
        "# Demultiplexor de 8 entradas (DMUX8Way): Distribuye una entrada de 16 bits en 8 salidas en función de las señales de selección (sel).\n",
        "def DMUX8Way(inp, sel):\n",
        "    a, b = DMUX(inp, sel[2])\n",
        "    return (*DMUX4Way(a, sel[:2]), *DMUX4Way(b, sel[:2]))\n"
      ]
    },
    {
      "cell_type": "markdown",
      "metadata": {
        "id": "o3Zb3Vr5U0eZ"
      },
      "source": [
        "# PRUEBAS GENERALES"
      ]
    },
    {
      "cell_type": "code",
      "execution_count": null,
      "metadata": {
        "colab": {
          "base_uri": "https://localhost:8080/"
        },
        "id": "i8Haa8SeXWhl",
        "outputId": "9bac58d1-8a8a-4f5f-f076-23f4f03ca44f"
      },
      "outputs": [
        {
          "output_type": "stream",
          "name": "stdout",
          "text": [
            "NOT--- 0\n",
            "NAND--- 0\n",
            "AND--- 0\n",
            "OR--- 1\n",
            "XOR--- 1\n",
            "MUX--- 0\n",
            "DMUX--- (1, 0)\n",
            "NOT16--- [0, 1, 0, 1, 0, 1, 0, 1, 0, 1, 0, 1, 0, 1, 0, 1]\n",
            "AND16--- [0, 0, 0, 0, 0, 0, 0, 0, 0, 0, 0, 0, 0, 0, 0, 0]\n",
            "OR16--- [1, 1, 1, 1, 1, 1, 1, 1, 1, 1, 1, 1, 1, 1, 1, 1]\n",
            "MUX16--- [1, 0, 1, 0, 1, 0, 1, 0, 1, 0, 1, 0, 1, 0, 1, 0]\n",
            "MUX16--- [0, 1, 0, 1, 0, 1, 0, 1, 0, 1, 0, 1, 0, 1, 0, 1]\n",
            "OR8Way--- 1\n",
            "MUX4Way16--- [1, 0, 1, 0, 1, 0, 1, 0, 1, 0, 1, 0, 1, 0, 1, 0]\n",
            "MUX8Way16--- [0, 0, 0, 0, 0, 0, 0, 0, 0, 0, 0, 0, 0, 0, 0, 0]\n",
            "DMUX4Way--- (0, 0, 1, 0)\n",
            "DMUX8Way--- (0, 0, 0, 0, 0, 1, 0, 0)\n"
          ]
        }
      ],
      "source": [
        "\n",
        "# pruebas generales para cada compuerta\n",
        "print(f\"NOT--- {NOT(1)}\")\n",
        "print(f\"NAND--- {NAND(1, 1)}\")\n",
        "print(f\"AND--- {AND(1, 0)}\")\n",
        "print(f\"OR--- {OR(1, 0)}\")\n",
        "print(f\"XOR--- {XOR(1, 0)}\")\n",
        "print(f\"MUX--- {MUX(0, 1, 0)}\")\n",
        "print(f\"DMUX--- {DMUX(1, 0)}\")\n",
        "# Pruebas para las de 16 bits\n",
        "a16 = [1,0,1,0,1,0,1,0,1,0,1,0,1,0,1,0]\n",
        "b16 = [0,1,0,1,0,1,0,1,0,1,0,1,0,1,0,1]\n",
        "c16 = [1]*16\n",
        "d16 = [0]*16\n",
        "e16 = [0,0,1,1,0,0,1,1,0,0,1,1,0,0,1,1]\n",
        "f16 = [1,1,0,0,1,1,0,0,1,1,0,0,1,1,0,0]\n",
        "g16 = [1,0,1,1,0,1,0,0,1,0,1,1,0,1,0,0]\n",
        "h16 = [0,1,0,0,1,0,1,1,0,1,0,0,1,0,1,1]\n",
        "print(f\"NOT16--- {NOT16(a16)}\")\n",
        "print(f\"AND16--- {AND16(a16, b16)}\")\n",
        "print(f\"OR16--- {OR16(a16, b16)}\")\n",
        "print(f\"MUX16--- {MUX16(a16, b16, 0)}\")\n",
        "print(f\"MUX16--- {MUX16(a16, b16, 1)}\")\n",
        "print(f\"OR8Way--- {OR8Way([0,0,0,0,0,0,0,1])}\")\n",
        "print(f\"MUX4Way16--- {MUX4Way16(a16, b16, c16, d16, [0,0])}\")\n",
        "print(f\"MUX8Way16--- {MUX8Way16(a16, b16, c16, d16, e16, f16, g16, h16, [1,1,0])}\")\n",
        "print(f\"DMUX4Way--- {DMUX4Way(1, [0,1])}\")\n",
        "print(f\"DMUX8Way--- {DMUX8Way(1, [1,0,1])}\")\n"
      ]
    },
    {
      "cell_type": "markdown",
      "metadata": {
        "id": "0jw6YxK_X-Yx"
      },
      "source": [
        "# EXPLICACION DE ALGUNAS COMPUERTAS\n",
        "# OR8WAY\n"
      ]
    },
    {
      "cell_type": "code",
      "execution_count": null,
      "metadata": {
        "id": "mroaE-Z3YZyY"
      },
      "outputs": [],
      "source": [
        "def OR8Way(a):\n",
        "    return OR(OR(OR(a[0], a[1]), OR(a[2], a[3])), OR(OR(a[4], a[5]), OR(a[6], a[7])))"
      ]
    },
    {
      "cell_type": "markdown",
      "metadata": {
        "id": "1NSGggsSeVIo"
      },
      "source": [
        "![or8way.jpg](data:image/jpeg;base64,/9j/4AAQSkZJRgABAQAAAQABAAD/4gHYSUNDX1BST0ZJTEUAAQEAAAHIAAAAAAQwAABtbnRyUkdCIFhZWiAH4AABAAEAAAAAAABhY3NwAAAAAAAAAAAAAAAAAAAAAAAAAAAAAAAAAAAAAQAA9tYAAQAAAADTLQAAAAAAAAAAAAAAAAAAAAAAAAAAAAAAAAAAAAAAAAAAAAAAAAAAAAAAAAAAAAAAAAAAAAlkZXNjAAAA8AAAACRyWFlaAAABFAAAABRnWFlaAAABKAAAABRiWFlaAAABPAAAABR3dHB0AAABUAAAABRyVFJDAAABZAAAAChnVFJDAAABZAAAAChiVFJDAAABZAAAAChjcHJ0AAABjAAAADxtbHVjAAAAAAAAAAEAAAAMZW5VUwAAAAgAAAAcAHMAUgBHAEJYWVogAAAAAAAAb6IAADj1AAADkFhZWiAAAAAAAABimQAAt4UAABjaWFlaIAAAAAAAACSgAAAPhAAAts9YWVogAAAAAAAA9tYAAQAAAADTLXBhcmEAAAAAAAQAAAACZmYAAPKnAAANWQAAE9AAAApbAAAAAAAAAABtbHVjAAAAAAAAAAEAAAAMZW5VUwAAACAAAAAcAEcAbwBvAGcAbABlACAASQBuAGMALgAgADIAMAAxADb/2wBDAAMCAgICAgMCAgIDAwMDBAYEBAQEBAgGBgUGCQgKCgkICQkKDA8MCgsOCwkJDRENDg8QEBEQCgwSExIQEw8QEBD/2wBDAQMDAwQDBAgEBAgQCwkLEBAQEBAQEBAQEBAQEBAQEBAQEBAQEBAQEBAQEBAQEBAQEBAQEBAQEBAQEBAQEBAQEBD/wAARCAEFAYwDASIAAhEBAxEB/8QAHQABAAMAAwEBAQAAAAAAAAAAAAYHCAMEBQIJAf/EAFEQAAEDAwMDAgMBCgoGBgsAAAIBAwQABQYHERIIEyEUIhUxQTIWFxgjUVdYltPUJDhCUlZ2lbXS1TNDYYGTlzQ3YnGUtiY2RFVld4eRkqGx/8QAHAEBAAEFAQEAAAAAAAAAAAAAAAcBBAUGCAMC/8QAQhEAAQIEAwQHBAcGBgMAAAAAAQACAwQFEQYhMRJBUWEHIjJxgZGhE0KxwRRSYnKC0fAVI0OSouEWJDPC4vElstL/2gAMAwEAAhEDEQA/AP09pSstaRdU85rTfS6BdrNqLqnlmoL2StxZcawWmzyFW1zXAeSUyc1uNG4hxANnVVxGt14mXGlkutS0rK161xv+tl36frxpDqLlGC4vqTccigXaN8Ht6XNThQ5DiAaTGJAMm1IgutkgoqEjhe7wK14eGa36m5pdsD1J+/CkTCdYMtyjDYNkCzw23rMxHGc3a50MybccOV3LZyeWQTzClNQUZERFarZUuti0qlOlPJc7yXF84+77O5eVybLqDkNggS5cKJGfagwpSxmW3EiNNNma9onFPgKqrqpsiIKJddUVUrOHUJrzrdo9qXj2O4/hmH3PGMvZNm2XW6ypkPsXJoVI4DptNvArjjaK60qo3yRt4ERSbRT7sbr16XJveWBnF+mAw85HcONhV9eBHAJRMeQQ1RVRUVF81DNbupDpS1t0xvenV3zHKoTlwZRy3XJvAcjV213BtUOLNb4RQJTZeEHOKGKEgqBLxIkXwmocaJAeyXdsvINja9juNt+e5ekF8NsRroou2+Yva435r7LqO6nFT2ac6Xou6fPIbgvj6/8Aslfx3qO6n1aNGNOtLgcUVQCPILgQoX0VUSIm6f7N0/76rnSDPWtRcDgX05AOXFjlAuoiybPCcyvB78UaI42JKncATET7bgKQiq7JNK5anulPF1OmYkpMOYHsJaRsDUGxUwy+DqJNQmx4QcWuAI6x0K9w+qbqAhQU7ugWF3OUy00jhRc9kRxkOKiIatg5bF4DvuvEjVUTxuS/PvWnrfjw1s8PUjp+1Lx2VPTaZJtsSNfrdBXzuquQ3SkGKIiefTIS7+BX51FaV7ynTVXoJ/zEOG8dxafMOt6Lzj4ApsQfunvae8Eeo+a0LpZ1AaK62Rhf0t1LsWQPLHWWcFiSgT2GUPhzeiOcX2U5bJu4A77iqeFTewKwfmelWneoTjUjL8SgT5cdWlYncFamMds1MO3IbUXW0QlVUQSTyq/lWu1i+o/UpoaYJashc1fw9nbuWfIpCN5DGb+vprjtxkkpGbijJTfi0DYGm+9Sbh7peo1YeIE6DLvP1jdh/ELW/EAOa1KqYHn5FpiS5EVo4ZO8t/gSeS3NSoBo7rrptrrZJF3wC9E7Itpixd7TMaWPcbTJVF3YlRy9zZoomO/kCUC4ESJvU/qV2uDwHNNwVphBBsUpSlVVEpSlESlKURKUpREpSlESlKURKUpREpSlESlKURKUpREpSlESlKURKUpREpSlESlKURKUpREpSlESs86adK+RaeytJJLuriXL727+VyLoKWAGfjxXp9x5P9cXpey4aL7efPjt7EXatDUolljmXgOQdO9y6a8byB3Lc/jYhesruN7ySxYXMkA2MqHMRtXYsEXyaUnZ7bYom6F2zLwiLtY1p6eJmn+aQc0lal3CRgGC3fIcxseJW7HeUlidcmn/AFAm5HUyltNesuKx2GowPIskQU3eCCWgKVW6pZUN0encncSz+VccWyOxhN1Myi4wgvlmk2x6VDlTSksSAZkgDvbJt4fJCi8hMVTcVq+aUqiqMkpSlEWMNYbBMwPqxuckTcWzap441em1fnckG72tWYckGWNvYJRHbeSr8yVsvKomw9qpJ1q4+wOR6K6gRoEiVc7ZlsuxCgOcWwhT7ZKOQZpt5UThR1Tzt4VPmSKkbrlLpkpzJPEQmGD/AFWNce8XafRoUzYEmnR6X7N3uOI8DY/MpSlKidbqlKUoiiOUafN3O/wc/wARvMjFc6swklsyGAAq6KKibsyG19sqOuycmnPG2/FRVVWtE9O/UMWqrcrBc/tkTHNTceji9d7Qw4RRZ0ZS4DcrcZ+52IZbIqLu4wa9pzzwNypKi+cYW9k3wy+4/en8fy7GpPxDHb/FTd63SduJIo/J1h0N23WS3BxslFU+SpKfR/0jTGG4zZGfcXSpNuJh82/Z4t8RnkdNxNhaFVWGYlhaMPJ3I8+B8Dlpu2lVb0763Ma24W9Oudvj2bLbDLctWTWNt4nFt8wFXiQqQipMvN8HmjRFRQNE3UhLa0q6vhxGRmCJDN2kXBGhB0IUMPa5ji1wsRqlKUr7XylKUoiUpSiJSlKIlKUoiUpSiJSlKIlKUoiUpSiJSlKIlKUoiUpSiJSlKIlKUoiUpSiJSlKIlKUoiUpSiJSlKIlKUoizl1yNznMBwVLe3OJ4dRbCS+kJU2aQ3O6riJ5Jvt890/7lXwi1B6k3Wle7e/kei2A+tmxrncMsmX9pWARQOLAtcoHhNV+SEc2OO23lCLZUVEqM1zJ04RmurEvCGoh383O/JS30esIkYr9xf8APzVaWax2fULJs5bzyyRLn8KuwWmDEmg2+EWH6KO6htDt+LJ033CI09y7AKrs2KJDZ8G13u36aT7rbXs7WBk97tMYnzjyHZcMGbgAKZOkDLq8YsclMl5KrfLdSVd7ev2C41kksp1yjTG5Lsf0jzsK4yYRvs7qqNuqw4CuCKkfFD348z47cy35H8Lxh+42C6FaW238XF0LQjJm01EFxrskgtAqAqdv2oiivFPs7VH8GuwYJD27XZIA3NPsXQ8jtXs5zgXEbJsL9Y2WzxKdEiCxtre+8jbDs8rXABA1F+AVa6YWV/I7Plt8we9PYhaciu0f0lsatbLMuzHFRuPOA2l5NtvOqwY7Ki8EUD2UlUalWikFi2YEltjOSXGol7vjAHKfJ94xG6ykQjcJVIyXbdSVVVV8rUitGHY5Yb7esltFtSNcMhNl25Oi6ai+bQcALgpcBXj4VRRFL5rutcmLYtYsLsbGOY3CKLb4xOm20TzjqoTjhOGqm4REqqZkvlV+dW1Sq8KcgxYTL2c6G4XAyDYbmEEg3cRkAT2us4hrnEH1lJF8CIx7rZB4OZ3uDhYaC+dxuyAuAF6tKVHMuvOUsvW3FdPMdW/ZdkMkIluiqJlHhgRiDlwmq2hONwmFcbV1wRXybYeFcFaxdOp0zVppklJt2ojzYD9aAak7gryamoUlBdMRzZrcyV1sG++PK6i7ox03PY1FyVnG2/u3lX9qW/aEYJ0Vt4vMxXAU5/tf7SmQ8Y5P77oraJevw7rz/AKX6B/q5ef36ptoLota9C8E+5WNe5d9ulxmvXi/XqWKA7c7k8go6/wBsV4tBsANttDugNttiqkqKZWNXbmGaQaBSYFOc8vMNtiTx1NuQ0aNwsFz7Vp4VOdiTQbshx0/Pnx5qg/h3Xn/S/QP9XLz+/VJ9Asx1XyVvOrBrKuJuZBh2U/BUfxmNJYhvxjtkCc0fGQ44fc2nKJedvbsm+3JbVqrdHv8ArD1y/r9E/wDK9irO3WOVpUqrNYuozCtDr3YbLmtiyt77pkeC2SbRZnLg28+0nJyPxZ5OC4jf4z3AgqCGokvA0GIl1taViKkmG6oEqJvsmDXHdf8AZ5bqzmJ+UlHBkxFawnOznAfEr2hS0aOLwmFw5AlaBpWf/wANnSr+h+p/6jXH9nXNE62tDCtwTbyGeWV5WjediTcCvZusNiSopGTEVxtE2Tluhrsipvsu6J5Mq0hFOyyOwnk5p+a+3SUywXdDcB3H8lfVKp/EusDpfzVhpyz65YlGeeklEbhXeeNqnE8hcePpZnaf+a7J7NlX5b1cFX4IIuFbJSlKqiUpSiJSlKIlKUoiUpSiJSlKIlKUoiUpSiJSlKIlKUoiUpSiJSlKIlU7hPU3gEzTLG8+1eyrA9OpeSHcAjQZWcW2bHc9LKNk+xNAxZkbIjZGje/bJzgWxItXFWNtDdENV8Qn9Oz2Q6Pxre3icrUF2+F8VhOLjgXKU69CQOBr3+6BCH4nfii+/jttVVQq49Rdfb1aci0vsWkWLY1nUbVB64swbu7lXoreysWIUoSR1iLKV4XG2n0QgHZCAUVfdunBYOpCVm+suR6TYLp9IlRrJY7nKi3+7SnbfDuN2gzQhvwmhVg3FYB41bOWKEiG2aA24iIS0ZpThV/0zd6SMEzXEGMOv8bJs3ku4+3cGZSRW3YN1eTibJK2Y8X2l9vge4g+PlWgXMVzhzq7j5v9yqph0fTd61fG/XtbLc3Lm276X03Lups03z7vHgu/HfdNqZKmZXo6BatZHq/YMlueUYRDxibjmV3TFiYh3hbkzJKC4jLkgHSYYJBJ1HRQSbRdgQl+1slnVQ/SE/Hdx7U1th8HDZ1azMHhE+Stn8UdLiqfyV4kK7fkJF+tXxQqo0SlZ9jdAHR1F7ypoPYXifeckOHJdkSDIzJSL3OOEu26rsm+yfJERKguu/Tf0S6D6a3LUO5dOOM3SZHIItns7SGL94uTq8Y0NpNyVSM/nxA1EBM+KoCpXy5zWAucbAKoBcbALg1cv8zNupy8M8Jbdq01sbFhYF6K2LbtyuKMzZbjbqKpkIxwtg7LtsSubJ9V+ahukWn8bTTArbjIRoTU3h6m5nEbQWnZrmxOkOwiqgi+wOSbo2DYr9mplXE+N66MRV2POwzdl9lv3W5A+Pa8V0Bh6nGl06HLuHWtc95zPlp4JSlK1NZtKVDco1f08xK6tY5PyJqXkEl8YsaxWxs510ffMOYNhEYQndyHbZVFE9w+fcm8gxbRrqH1uZYlXFp3RvDpSA4Rywbk5TOjkjJqIMIqs21SbceDm6Tj7TjabsJW4YewLW8SOBlYJbDPvu6rbcie1+EFYKp4jp9KB9s+7vqjM/28bLwbzmtwueWsaSaVwYuSaiXAebdtJ5RjWqP7ec+4uCirHjNoYKqf6RxTbBsSJwa0voZ08WTSiTMza93B7Ic/v0Rli7XmSSEEZtBEjg28eI+nhI8hOCHlwlUVdNwhFRluk+kmC6KYezhOAWlYcIXTlSX3XFdlT5Z7dyVJeL3PPHxHcyX5CIpsIiKTGuncHYEp+EIV4fXjHtPIz7mj3W8syd5OSiKu4jmq4+z+rDGjR8TxP6ASlKVvC15Kq3R7/rD1y/r9E/8AK9iq0qoy7dDvSjf8gvWV3/Rez3S75BcX7rcZc5+RIcekvFycJFNxeAqvlADYB+gpRFNNddILXrjptccEnXErTNM2p1nvDUcXnrTcmDRyPLbElTdQNEQhQhUwJwOQoarWUtOsjvmR42n3XWpm05PaZT9ov9tadFxIdxjuK28CKiknElRHA8ru24BIpIqEt4fgFdHn5gMX/wCE5/jqkdQtNML6bNfMexDTuxwbBh2pljlORrVEWSaNXu2kJPPIhkrbIuxJDSLxRORRUVdl+1FnS1hxlXohnobf3sv1r79j3x3Adb8PMrccFVV0jUBLvPUi5fi90/LxUlpSlcmqal5l+xjGsqijCyfHrZeI4FzFmfEbkAJflQTRURaidp0pk4AZy9C9Rcq00f7kuSMO0zPUWc5MgURXXbZJRyKXHbwgACom2ypxBRn9Ky9LxBVKK8PkJh0O24E28W6HxCsZymSc+3ZmYQd3jPz1C9DGer7PdOv4D1FYN66zM8v/AE1xGM5IYbaHuL3J1u9z8fi23zNxlXm+RoiINafxLLsXzzHYOXYXkEC92W5Nq7EnwXxeZeFCUV4kKqm6EJCqfNCFUXZUVKyhUKj4rl+mmUS9RdAb+1jt6uD4v3mySuR2S/om3JH2U37Dy8U2ksojibluhcyqcMI9MYjPbKYgAF8hEaMvxt3d4y5WzUeVvAhY0xqYb/YP+0/I+a31Sqy0I16xnXSwTZEK3yrDktgeGFkmNXBR9ZaZKoqjy4+11hxEU2ZAbg6G6psQmAWbU9w4jIrBEhkFpzBGYI4gqN3Ncxxa4WISlKV9r5SlKURKUpREpSlESlKURKUpREpSlESlKURKUpREpSlESlKx9ohrzqNb9OdHsLw/T255Xd83kZg1Im51n5OSLcVquDoqkia3AcORz3IG+LKdsQbBVJE51WypdaZzfSrS/U30X3yNN8Wyv4b3FhfHLPHn+m7nHudvvAXDlwDfjtvwHf5JXvXW1Wu+2uZZL3bYtwt1wjuRZkOUyLrEhhwVE23AJFEwIVVFFUVFRVRayJcNQrj1F3fpoyaeub4LBzC75Tbr7jdryqZARwokGX7XZEE2SeQJEATaNFFFAy8bGqV93RtcW6nsS0R0/wBUNS8xv+QFebvqM5dcpmPxLXYJEdwm2kaZ4MW95ZBsemOILLzQiKEvbeFSWS61Jhmn+B6cWt2x6eYTYMXtr0gpTsOy21mEwb5CIq4TbIiKmogCKSpvsIp9Er3qoXo7G5N4nqDFuOU5JfAg6m5PboZX28Sbk7EhxZixmI7b0kzdVsW2RXYiL3Eaqu5LV9VRVCVj7rCgZ7YdU8KzCdmDR4TcTKzWqJOhI9GsmRvNmLT6g0bRuo+yhsgbhErRE6AkCSdqn8bq3vEzvFF6ROoIgaecY5O43AY5qBKikIuzhJRXbdC22VPKVH9TdZmNW8Av2m2ZdG+vcmz5DCchSUSw2gja5J7Hmuc4hF1s0Fxs1FeBgBJ5FKsKrThVZGLJOOyIjS2/C41tv7jkdDkriTmvocwyYAvskG3d+vBVT8J1j/p9h/6pyf8AMafCdYv6e4f+qcn/ADGuPR2/ZDeMKj27NLRd7XlGPH8HvcS7RiYljJaAFF1wV8bvMmy+nEjHZ5EQy23Wb1xRUo89S5yLJTDGB8Nxaf3ULUG31NOHJdASsOXnIDJiE52y4Ajrv3/iVcPYfrdIIe5rRbGQAjPaHigNm4q/ZBSdfdRBT/YPLx5Vfr5R49PblnC1U0ay3Um13ppti5u2vVZyEkVtBQXRat7LFuZIT3JeJuuEuyIpoiqtW5SsjR8aztGi+2hwILjzgsHqwNPqrWew/Lz7Nh0SIByiOPo4keilHTrrh0d2UoOA6fY5B0kyK8sRUXHb/YvgVynF3FjxhN407c58y3QeDzzhKRb+7miadrFt5sdlyO3uWjIbPCukF5RVyLNjg+0aiqKO4Giouyoip4+aV5+ITNW9FQjsaQZj8UxyKjTaYblch2VCbYD0zfbhTvdKhcWWHBAFV9gSdVUZSpsw90zU6feIFVhmA4+8DtM8crt8iOJCj+p4CmpZpiSTvaDho78j6HgFuKlVNoh1IYXrOruOLGlY1nVsiJKvOKXMVGVEHuK0TrLmyNzI/NE4vsqQ8XGuaNkaAls1MsGNDmIYiwnBzSLgg3BHEFaG9jobix4sRqClKUr0XylKUoiVnrrdtM1zTLF8xgXt63uYfnVhuBttR0dKa1KkfC3I/lU4bhciLlsq+zZERV5DoWqL64UjB0s51PlFb0S2Mwro0M9XkZcfizo77Ta9n3qpONAIpugqRChKI8lS0n5ds5KRZd4uHtcD4ghe0tFMCMyK3VpB8iqupSoVLvN0ybO7lhNnvj9nYsNviTZsmI20ch16SbyNtJ3mzbFsQYIiVBUiVwNlFAJD4NlpV8ztFpADRck3sBcDcCcyQNNSukIsZsKwOZJsBxNifgCfBTWlU/k+U5ta8RfC5ZjHs8rHMuttnuF3ZZYVJtvkHGTuGjwK2w525gEaoiihtKo7CXEezaczyOPeslfsN4l55jVvxxJ8edHWG+XxRs3uUFr0rYI44baNLxXdRXj8u4lZX/D8wYXtQ9ts7ZnPs7yAMw4EAm9t18lZftOEH7Bab+HPde+ViDlbwzVr0qudI75fJTblmzO8ZG5kbduhTpMK9R7cwoA53B7zIwkXYCcbcFQcMjDgKKibopWNWNnpN8hHdAeQSN40PMEgXHNXcvHbMwxEaCL7jqO9RTKceyaLe4Gp2ll4ZseoGPtE3AmPApxblFVUJy2TwFUV2I6qJ9ebR8XW1Ex86w0P1ksmt+EJlNsgSLXcIMk7XfbRI3J21XNsAJ6KR7ILiD3AUXB9pgQkm2+yZ6qIwMsl6F622nUnG7Zeb8mbNrj19xKyREkz7wrLLrsWZFaVxsVfjqCi4bhcEjG6u4qA7zJ0R40jSs02gTZLoT7+z37LtbfdOfcc9CVoeN6BDjQTU4Is9va5jj3j1HcFvOlUH+FXkH6Ievn9iWv/ADCn4VeQfoh6+f2Ja/8AMK6XsVE1wr8pVX6Q68xdWshyTFHtMM8wi7YxGt82TFyu3x4pyGJhSRZcY7L7qGPKI8KqqoiKmybqi7WhVFVKUpREpSlESlKURKUpREpSlESlKURKUpREpSlESqVwXpSwrT+RpnJtOZ5pJPS93IXoCS7iyaXMrw4bklZ6CyPe4Gak3x4cVRFLmtXVSiLKl20RyzRG5aA2bS3Dcz1IxvTi65JcbrNfvNsW7J62JJBtCWU7FbeUnpx+RVOIM+d1VN5jp10yuaFLeMhw3V7VG/uTpz1/ulqkpj779/l7KStOSXoLbu5ruIp6hoBU12JtFIqvqlVuqWVKdKmOZ7jmL5t98DBZmKSbxqDkN+t8OZNiSXnIE2Usllw1iuutgSd0gUOZKitqu6oqKt10pVFUZJSlKIsW66WNvBOr5q7sjb4Vu1UxFHDRTX1E682l0WzJEVfG0KUwmyJsqMqvzElXu1Mes+yxym6P5azZzkXC2Zq7b/VtMq4caHKtM9HkX6CBOMxeRL8lEdvPhYdXKnTNINlcQtmGfxYbSe8Et+ACmXAcyY1LMJ3uOIHcbH4kpSvLvmV4vjCNLkmSWu0o+hK166Y2x3EHblx5qm+26b7fLdK/l8yzFsYKOGSZLarSUvn6dJ0xthXuO3LhzVOW3JN9vlun5aitstGfs7LCdq9sjnbW3G29bkYsNt7uGWuei9WleIGcYU5ZpORt5fZCtMNxGpM9Lg0sdk147CbnLiK+8PCrv7h/Kld+0Xm0ZBb2rtYbrDuUF/l2pMR8Xmj4korxMVVF2VFRdl+aKlUfLxobS57CADa5B14d/JGxWONmkE667uK8jM8CsOcMxDuCyoVztbiyLTeLe8se4WuR42ejvD7gLdBVU8iXFEJCTxVvdO3UPe7td2NEdcZURrUBphxy0XhllI8PL4jSbm+wCe1mY2PmRFT5eXWt2lVGoJUeznCLRntkG03NyRFfiyGp9tuMNztTLZOaLkzKjOp5bdAk3Qk+m6LuiqiyDgLH81hSYbLxyXSrj1m67N/ebwO8jR3fYrWcSYag1mEYsMWjAZHjyPyO7uyW5qVSnS7rfc9Vsdu+LZ0sZrULBpQ2/JGozHaYfFzkcOaynIvxchkULZVRRcF0eKIKb3XXXUvHhTUJseC7aY4AgjQg5g+IUIxIb4LzDiCxBsRwISlKV6r4SqJ62paN9PtwtTc+PHk3u/45amAeBtzv968w0dbFtzw4vZ7yqP8ANEl8Iiql7VkvrOuzGT6p6O6SjFgz2YU+dnl1BJSJJgjCYWNBdJtCRe25ImHsqp7ijrtugnWKrs82mUyYnH6MY4+QNvM5K8p0uZubhQG+84DzK86o1eMVuZ5CmV4vemLbcnooQJgy4hSo8pgCM2t2xcbIXAJxziaHtxdNCEvYoSWlcKwJiJLOLoZ1FjcAgjmDcHj32OoXRcSE2KLO7+HqFAZOmE16ywreOWOrMPIoWRXqY9G7q3Bxh1tztACmiRw/EMgCCpcAbRF5qpEvZh6dzLLk+SXnGclW0W/JYyuPwGILZdi6qnFbg2RKo8iBA5AQKhkCEq7qqLNaVefticLS0uBBvcFrSMyDpa2rRbgBYWGS8PoMAEEDMczfQjW/M346nNRHGMJuFuyKVmeU3qLdr9It7FpSREglDZCK0ZuInaJ13dwnHSUi5bbICII7EpS6leZkuS2HDrDOyfJ7oxbrXbmlekyXl2EBTx9PKqqqiIKIqkqoiIqqiVbxY0eoRhtdZxsAAPAANAt3ABerGQ5ZhtkBckk+ZJPxK/uS5LYcPsM3J8nujFutduaV6TJeXYQFP/2qqqoiCiKqqqIiKqolTvpb0cySZkszqH1Zxty1XifF9Bh1jncvVWC0l7nXZDe/BqZKXgrg7KbTbbbSmiq6CeHo9oll2rl9tGpOrVh+CYLDbOTbMJu8DefcZa9xpHrxHfBQaba2R5hgFIlMmnTICaRutcV050ZYAdh6H+1Kk3/MuFgNdhp/3HfwGXFRFi7Ewqjvocof3Q1P1j+Q3cTnwSlKVL60dVbjv8aHUH+oOH/3jkVT+8ZTjGPPxYt/yO12x6d3PStzJjbJP8ERT4IaopcUJFXbfbdN/nUAx3+NDqD/AFBw/wDvHIqdSuhdk6htJrngFzYh/EGzC52KVLYB5qHdWEVY7pgYGJt7qoOCoryacdH+VVDe2Sd6mv3eYN/TOxf2iz/ir+Dn+CGKGGa2EhJN0VLkyqKn/wCVfn9p1hOk2ZWF5y76J4far/Zpr9lyC2FZYTi2+6Ri4SWEMBITFCTcTElQgIV387VKPvMaPfmnw3+wov8AgqFZ3pnl6fMPlJmSe17CQRtDIjwW/wAvgKLNQmxoUw0tcLg2Oh8VuizZDYMjYelY9fLfdGY7xRnnIUkHxbeFEUmyUFVEJEJFUV8pun5a79YCkaF6KSybOTpFhritKqii2ONt5TZd04bL/vroQdBsNxq3zYGmt6zHT1Lg4Dsg8RyifbEMxHihK0272SXb6kC/X8q19yvTdRohAmIERnMbLgPUH0XzG6Pp9gvCiMd5j5H4r9DKViiy6idVOn8oVs2o1i1Es/qIwrbcwt6Q5zMRttUcBq4wRFCdMtve/GcVN0VVVUXnaWnPWjp/f7hDxLVq0TNK8tl7A1Bv7wFb5jnEFIYdyD+Dv7K62PElbcUi4oG9SDQ8ZUTEVmyEwC/6p6rv5TYm28i45rWahQqhS85mEQ3iMx5j52WhaUpWzrEJSlKIlKUoiUpSiJSlKIlKUoiUpSiJSlKIlKUoizj1yQHrnguAxIsVl+Qmo1jkAhvcCEWVdddIEVUQyRptxVHz7eSom6JUIqRdZ90YuOaaK6euWqW+UjILllRS2XFEIwW63uMIh7ediduTKfPZeKiqKhVHa5j6b47X1mXgjVsO/m535KXOj2EWyMWId7/gB+ar/DCD7sNRhyUo/rPiEdUF0i2+D+jb7C7H47Xd9bvt7e53/ryqEW9WY9u0qPFoMWU6OSXkbE3cpTrBLaljXHs8HDbcdRnsJHUfaqKKNfJOKpcV8xLFcnVkslxm1XZY6GLKzoTb/bQ9uSDzRdkXiO+3z2T8ldqTZ7RNuEK7TLXDfnW3uejkusCTsbuDxc7Zqm4ch8Lsqbp4Wo6h1qEwl+yTtNsRfqi0J0IWtmQdq+4tHVF9VtL6e9wDbjI3B39sPPjlzuc8tFUmGXvGX7TnOoWfoMFyRdWPjWOTnWpLVomRBbZZEd0RHHHVbYcA0TYuTKD9lCWW6W2jKGUyHLMvhDbrhlN0S4JbAe7gwmAjtR2gJUVRV1QZFTUV2VVRE+Ve/cMIwy7FcDuuI2WaV2Vkp6yIDTiy1aTZpXeQr3FBPA8t+P02r7x/D8SxNH0xbFrRZklce/8AD4LUfu8d+PLgKctuRbb/AC3X8tfM5VpePAiNhAtc/ZFjmAxoYAxpvkAWjrEOc4NZc32i6sCSiw4rHPIIbfkS4l3WOXPQEAEusNAPXpSoxfnsyyrJbdpJpQ9C+6+8gMuVIfJs/gVmR4GZF1JkyFH1bJ0BBnkiuGXhFEHNsfSKTN1ydhyEk3aiPNhwHEngAMyVdT07Bp0u6ZmDZrf1YczuTAsTzvVfXafO0ey+VghYZZnLPf8ANItljT1kuyHGXwszaShJoyBACQ4aIZNcgD2K+W94feN6lf03Mo/UnH/3WrK0i0lw7RPB4eB4THkJEYNyTJlzHu9MuMx0uT8uS6qIrjzhqpEuyIngRQQERGZV2zhyjMw9S4NNhuLhDFrneTmTyFybDcMlz9VZ91UnIk28W2jpy0Hpv3qg/vG9Sv6bmUfqTj/7rXExoX1QCrvquuPI3EJxVaRvBLAHANk2Et468l338psnlPHjddA0rN3WPss+zdGeoq3Q37hP658iixYrZPPvvYZjwNtNim5GRLGRBFERVVV8IiVQ2n15uWoVwu+rN6ym45Ql2dO149ebnAYhy5OPRpD6wzcaZjsCKuE888i9tFIHW1VE2QRv3q+tusWX4taNMtOdNLhkuN5S+61mU223qLBmRbc12ySI0EiQwhpLJVacJDXiwLw8VJwCGq2Mc1uiMNxInS9mjLDAo2023dsbEABE2RBRLnsiIiJslRX0pQa1VZFlJpMu54eQ57hYCw0bmRck5nhYcVuWDnyEnMmdnYoaW5NBve51PgMvE8F3aV1fguu36Mmcf2xjn+aV1XbB1LvRJ7ts6Y7uEiPxKK1cspszCSh+qcmZL3Ak8+FTiv8AOSoFZ0bYqiGwk3eJYPi5SQ7FlGaLmOPJx+S9Slclr0J6scgu0N24v6X4XZH4aHIEnp1+uMeQoqvFWxGIyuyqIrs6SJsSoRpslSOw9CGIXRhl3XjUnLdTpPpwafgvSfg9lJxt7uA8MGEoKpJ4Fe868i+d08Cg7LSuhmvTjgZ1zILeZ2neTcv6gsTOY9p0AH6OHRD3WHmc/RUw3q23l12fxPQ3FbjqlkTAirsewG36CGpNuG36u4uKkWMho06g8jUiIeKCqqiVemj/AElHDvMDUvqFusHLs0tk0J1ngQXHwsWPm2hoBR2DUfUv7uKfqJAKQkLXbFtW0Ir+xrF8ZwuyRsZw7HbZYrPC5pGt9siNxYzPI1MuDTaII7kREuyeVJV+a16dTfhbo+o+Ff3sBu3G+u7M/hGjfDPcSVH1YxNPVnqRDss+qNPHefhwCUpSt5WupSlKIqGy7QDWS9av5LqhiHU9c8PjX63Wu1M2uBidtlenjQkfIRN6ULquKr0uU4ioIKnd4rzQQ4/H3jepX9NzKP1Jx/8AdavylVuqWWFc707zvQvWS13fNdTbtnsTVlHYkq5SrHFgBBu8GOCxkJYygzu/EB4P9F3FWE2nJUT2yWrF66MZO79PVyy6BjTV6u2ndzt2bW9p2X6dGvQSAOU7yUkFdoSzE2VC35e0VPjVciQmKGBIQkm6Ki7oqflrl7ppo7JOrwqhDFhHbn95lgT/AClvkpgwDPOjyL5Vx/0zl3Oz+IK/tKUqGlviV07vZrPkNues9/tUO5QJHHvRZjAvMucSQk5AaKK7EiKm6fNEWu5Sqtc5jg5psQqEBwsdFE8Mv+rPTVw+9YsjM9Po4ojuCXGYSyoQ7IKna5rqkQIiIBeldVW14uICgRptsLSvVjBtZsSazLArv6yH3jiS2HQVqVb5je3diymS9zL4bpyAkRdlEk3EhJc01FJMbMdNcxc1n0XjsFkhtNs36wvPIxCyyE3vxYfL5NSm0UvTytlUFVQPk0RDU7YD6V40CIynV9+0w5NiHVv3zvH2tRvuMxHOJMFsiNdNU1tnDMsGh+7wPLQ7s9d4UqH6Taq4lrRglv1Awx6T6KchtvRZjPZlwJLZKL0WS1uvbebNFEh3VN03FSFRJZhXRoIIuFFeiUpSqolKUoiUpSiJWd9NernD3dNdP7zqjlduumT585extbWDYvfZ0e4pbpTjb/p46xjlCrTaN9zuAiKSOEG4Ii1oisuaQ9OWseBzNEpF8uGEuBhEnNpGUpDelEp/F5LkiKkDk0O/EjFHO7x2Tfjy+dVVDdezlfUJkmbXfRVzpxy7DJOLarSrzGO93eyzJytrEhuyAVqOEmKSLyiyGnBcJCElHx7SRflnU3qWtuudt0myBdMJY5RDv9wjt2SPNfk4tAZ2+F3C4K6+Hq23neUc2gCNycRVbdVANBqVqGx01XHpVxTXjL8IsV2t2RZpcLhOizCjWkBfh3A+QPSUb4opTowLz2VXHNk5fOreuOD6z3zULFM/14naU2jF9KrnesiayCzyJrE2VGKI9GYbeF/iFvYRh435P8IkA4TDQ7ICEVFRSzpr1E1E1GxvLpWpLmOOz8fza94zFescF+Gy/GgP+nR02nn3iBw3G3S2RxUQSBPKoqrblZ36JcnxrK8O1JueLXmFdYa6r5cSSobousuo7PJ9swcHcXBJl5o0IVVFE02WtEUKqNFWDvVN0xsumy91G6XtuNkomBZfb0ISTwqKiveFr4/Cr6Xv0kdLf1wt37apBB0X0dtjRsW3SbDYjbjhvGDFhitiThruRqiAm5Kqqqr81Wq26j5en2iumj+Q4vo9il3y+6SQs+K20rGyQS7q6Bk33FER4tNg26+4SmCdtk0QxVUr4ixIcFhiRDZoFyTkABqTyC+mNdEcGNFycgqgynOIOr/UFk2ZWC9Rbpi+IWuJi1jl268NzYMt58G50+Q2jfsEl7sJhdiLdYi+U+ynq1H8AxJnBcOtWKNSVlHAYRJElRUVkyCVTeeUd1483SM+KLsnLZPCJUgriLGNd/xHW49Qb2HGzfutyb5gXPMldB0Knfsqnw5Z3aAue85ny0SlK4J0+Da4T9yucxiJEitk8/IfcRttpsU3IiItkFERN1VfCVrTWlxDWi5KyxIAuVz0qAw9Y7NllyfsGkOPX/Uu7R5LUN9vF4JSYcV11sjbWRPLjEYBeOykTvhd/HtLaxcW6T9U9VGWLh1A5WOJWB5AdPCcTmKUh8FRk1YuN02RVRf4Sy4zEEEVCEhkFW/4e6NK9X3BxhGDCPvPBGXJvaPLK3Na1VMWU2mggP238G5+Z0Hx5KEwbrmGr2SHpxoVGORKCQcS85i9CN6yY6IC2T27vhuVNEXW+EQC35GiuKAAaprPRzRDDNF7RLZx+MUq+XtWJGRX2SRnLvExtpAV5xTIu2G6EQMN8WWu4aNgKEu8ow7DcV09xi3YZhNghWWx2lnsQ4MNpAaaDdVXZE+aqSqREu6kRKSqqqq17NdMYUwbTsIy/s5QbUR3aee0fybwaPG5zUSVqvTVbi7cc2aNGjQfmeaUpSttWFSlKURKUpREpSlESlKURKUpREpSlESlKURKUpRFAuoDH5eWaDakYrAakuyrziN4t7IRY6vvG49DdAUbaRUVw1Uk2FFRVXZPrWXMGu7OQYVj9+jq52rla4kxvutiB8XGRNOQiqiK7L5RFVE+lad6jLp8D6e9T732Ve+H4ZepXbRxQU+3BeLjyTyO+226fKsx4RaGrBhdgsTLRtN221xYgAbiOEIttCKIpjshKm3zTwvzqB+nTZ+iSXHaf8G/2Uj9Hd/bx+Fm/ErjyHJnrXcbfj1otw3C83QH3o7DrpMsAwzw7rrrqAagKK40CbCRKbgJtx5EMZvmql2sWK5ZcpWFkV+xBgJsu2JMUY8iISkovsSiaRDDttuqqcEJDaMFH7JF6WT2K5w80tOolktJ3R6HAlWebCadBt9yM+4y4LjSuGLakDjKbiRDuDhqhcgEDi+Z2DPckw7UG5tYvtcskswWK12X1TISAZHvj3nnu4rKEqynD4iWyAApyUiVBhmnS1OeYHttktJZtEv2TcxAHAjaFm7FztZcdoHJb5NRppoiezvcbVrC4tsXBvbM7W7PhY6qR/d7e7ZmVmwvKbFaYUnIYk562HEurslHXoyNETRoUZvgig4Rct1+wqbbqm/HYM3zG55y/hlxxjHmxt0QJdzkQMhclFC7vJGGybOI1ubnAyREL2gCkW3JtD6VsxLJMR1SbnWxi433G71CJp1+5XYpLuPvNpuvZV8lcJqRs3yEVVUNpCVeOyJ6mmtgv1qey27ZPHRuffMkly2y5NkpQgQGIn2PknYZbXZVUkVVVfKqlfMeFT4cu6IxrSTDbbrG+25xBOztXGy3Ih1+sA7NjhesN806KGuJA2jfIW2QBvtnc6EWyJHaCmlKUrWll1HcYyiZoHrIxqXF7LeEZmca054BE2AwnBXtwrvyNRQAaJxW5Bc9kYVHFEu1umlfwq+l79JHS39cLd+2rNOE4evUhq2mHCBPac4DKbmZbI9MjsW8XQCE49kUiXgYB4elCgubCjTRoHd3rXyaT6WImyaaYqiJ/wDBo3+CuxujJtSbhyCKnr7nH2fu39bfZ2VBOLjKGqxDKfi4bW+3z53UX/Cr6Xv0kdLf1wt37avfwvWvRrUe6O2PTzVvDMouTEcpbsOy36LNfbYEhFXSbZcIkBCMBUlTbchT6pXZ+9Rpb+bXFf7Gjf4K5rLpnpxjV+PKsd0/xu1XpyGtvO5QrUwxKKKpoasK6AIat8xEuG/HkiLtulSBktZzXn6qaq2PSaz2u43W1Xa7zr/eImP2a02lps5dxuEhV4Mt9022g2AHHCN1wAEGjVSTbzEW+qHCAt4nc8cyS2XqNmNswe74/Kai/ELNcLg62EVyQgPk0UcxeZcF1hx1FA/buQmIyDWfSubqjbcadseVJj1/w7JIeUWac7BSbGSSwLjRNyI/NsnWXGX3wVAdbNFMSE0UfMKf6ab3Kx/L7nK1Atzuo2bZRYcpuWQrYDS3I7Z5cR6DFbt6SkMY4tQgbVFkq4ROumrnkQEi6mufVW/p1iuoz2Bad3LIshwG82bHnwkPxY0JJV0ajnHfUzfEzZD1bAEKIJE4SDuDfN9u+LVMkXG1w7hMtUq1vyo7bzsGWTRPxTIUVWnFZM21MVVRVQMw3ReJEmyrQWR9Mee5bp/qTid81hthXbUDJLNlQXRjFVbbt0yCluRW0jrLXusklrZQBUxMEIuZvL7lvmxM32PZ4jGTXGBPuoNokuTAhHEjuufUm2TddJsf+yrhr/tWiLvUpWI+n/ONVrPp5odpbpLZtOsNiZJLzpm7JJt1zuseCVtubyNrFbcng6fdMnFPuvrsp7igoiBSyE2W3KVh96XH6lbt0p5Zrppzi866XC+5hbrnbVjpMtZdiBOBVBp/luBnBYeFDQiBRHzum6xazaxaT6/9YWBajX7PcFu2KX635Xhlgx+VIYI244GxGFyYzIXkki4m/IRtjgnKMjA8SI3ERZUuv0JpWd+iXGMdxPDtSbZjFiiWiF99fLhGNEaFpgBankw2LbY+0AFploEEUREQE2StEVRfQzSsd9Z+HzcOznHdfHsuvUXG3mxxW7/jxeZx9yUaIzcWRkA41GbccFhh9UQRVUjEqF71Wwo2rnWLJ7xr0c2GKIPONtjJ1RjobgCSoLmzcI0RCTZUTlum/lEWunk+X9VGZY1dsQyXo5xabaL5BfttwjLqoII/GebJt1vkEBCHkBEm4qipv4VFqyqdPh1WTiyUbsxGlp03788stc17yk06TjsmGatIPkqV+4LJ/wA9GZ/+Gs/7jT7gsn/PRmf/AIaz/uNdTR5/JrRY5Ol2oMFq3ZjgLjVmu0JJ7UskaVkHYb/cbJeaOxjaJTUQ3NHU4DxUUn1cVVeLUKNPRZCY2dqG4tPUZnbQ9nQjMcip/kmSs/LMmYd7OAPad5a7tFXD2jtxkkKy9Z9RHxbIzBv4jGYHmX1JWGGzJE38CpcU+iJ4row9O73jt4bnu6TaJakR5iMpdjzG13J24vI0KInalS5E4GuSct0BkARVReC7bVatKvKTjqtUWIYkrEbnxYz/AObjwIvvVvO4cp8+3ZjNP8zvzt6KT4F1pYPZYdpxjV3Sy/aRK3HjRmnnGW52OReb3YYjhPh7gwKJwVVfbYBtPmqDxUtKWq62u+2uHe7Jcotwt1wjtyocyK8LrEhhwUIHGzFVEwIVRUJFVFRUVKyJUUsmHXnTa4OXzQrLZGCSnnkkSrUwykiw3AuUfn6i3EqNiRNxhbV6OrDyCRfjPNS7h7prgx3iDW4Oxf32XLfFpuQOYLjyWkVPAESG0vp79r7Lsj4HTzA71vClUDo11WW3K7tB001ftDeEagOs7Mg48Pwi/uC5wIrXIIt3CVFaNYziC+CO7IjiATlX9U4yk3An4LZmVeHsdmCDcHxUexoESWiGFGaWuGoOqUpSrheSUpSiJSlKIlKUoiUpSiJSlKIlKUoiUpSiJSqGy7W/XyHrBkul+nfTnaMmi4/bbXdguszOm7asqNN74ASM+kdUFR6HLbVFJV2aEvCGiV8Lqp1h7fxRsXX/AOqLf+X1WypddDr3yFIPT+5gse9TLVP1Kv1qwyJJjN8+IypAnKE03T2FDZliqfXlxXwW6QVERE2RPFeJm+a55rFq1b7dqPhDeHyNKO8b9rt+SOXSHKuVwisqy4ZJHZbV1iKTqImxKKTt0UUX3e3XLnTRWWT1Yh0+GbiA3P7z7E/0hqmDAMg6XkXzTv4hy7m3HxulKUqHFviUpXmZHk+O4faXr7lN7hWm3sJ+Mky3haBF28Juq+VXbwieV+iV9w4b4zxDhglx0AzJ7gvl72w2lzzYBenUQJzJdYsmc0f0hN1yU4SsZNkzBEkPGYm/F/8AHj4W4qKqjMdF5Iao4fFsCVebB8K1e6mgalYe7O080zkcFdyeZFJu8XyK4iFytLBpsw2bf2Zbyf60DbbPgVbI040zwPSLE4mD6cYzEsVkhbk3Gj8iUjX7Tjhmqm4a7JuZkRLt5VanrAXRRFdEZUq83ZAsWw955v4D7Op962hjfEmM2BrpSmm5ORfw+7+flfVfOmWmmH6RYRatP8GtLMC1WmM2wCA0AOSDEEEn3lARRx5xR5G4qbkSqq+VqUUpXRCi5KUpREpSlESlKURKrDF+mbRHDHsDkY1hSxHNMiux4sS3KY78PW5qSzl97q97ucy/0vPjv7ONWfSiLOGQ9OF+08uWi0XprxTEmMV0rn32edkvuQT4xuFPivMijUn08s1TnMkuFzRfkAjsirxuPLcDs15v9o1GYsLVwzDEIVyax0pF0kwo6FLbAXWnlaQxVtxWWUUjZdUOKEAqSbLLKUullUfTXp3qJpzjeXRdSW8can5Bm17yaKzY5z8xliNPf9QjRuvMMkbgOOOjujaIoiC+FVUS3KUoiUpSiLGnUbbmML6tsYv/AK9uPG1MxCVbChsxtlkXK0vi8L7xonkvTTDAVVfssoP0FK5qm3WowLMPSe+C3GE4OftMOSHXm2TBmRa7gyoCR+S5umwnbHdTVB8eN0hNcr9NEi2Wr7Jhv8SG0nvBLfgApjwDMGLTHQj7jiB3EA/ElKV4V+zbHsbeONcn5hvNMepebhW+RMNlpeSIbiMAatiXA+KlshcD234lt17zqPh1jcsjUu6OyDyMHHLUlvhvzvWAAI4RB6cD3TgSFv8AJU3VN0RaixkjNRLbEJxve1mnOwubZZ2GZ4DPRbk6YgsvtPAtrmN5sPXLvUlpUWd1OwqNj93yeddXoVvsLwx7iUyDIjuR3CFshFWnARxVJHmuKIK8uaIm6162P5JZ8ohHOs0hwwZeKO829HcjvsOjsqg6y6IuNlsQkiEKKokJJuhIq0iSUzCYYsSG4NBtcggXsDa/GxBtwIO9GzEJ7thrgTra400uuPKsSxzN7JIx3KrSxcbfJT3NOoqKJJ8jAk2IDFfImKoQr5RUWpdoJr5fdP79aNCtdMifubdzdSDhWaziTndD29lruR+ESeiJs08uySkTZdn0VHfIrycrxWw5tj07Fcmt4TbZcW+2+ySqm+yoQkJJ5EhJBISRUUSFFRUVErcMEY4m8IzYzLpdx67P9zeDh5O0O4jBYhw9ArcE5ARR2XfI8vhqOB23Ss8dJus18yVu86Kam3Z2bneEiLo3GSoAeQWd0y9NPAEQdyBNmH+KEguiiqW7qImh67Dk5uDPy7JqXdtMeAQRvB0UGR4MSWiugxRZzTYjmEpSlXK8lC811p0n01vcHH9RtQbJisu6RnJUEr3KGCxKBsxFwWn3uLRuCphu2JqaIYko7Ki15P4TfTb+kHpr+tkD9rTqD0hXWbTqRYbZcztWS2p74xi9zF1QSDd2mnBZNxOJobJI4406CgXJp1xERC4kmX9OMxLPMNt+RybTKtM9xDj3K2ymiafgTmTJqTHcA0QhJt0DFUJEXx5RK0HHOMpnBsOFMNlfawnmxO3s2dqARsu1GhvuOXHZcO0GFXnPhGNsPbnbZvccdRoVqD8Jvpt/SD01/WyB+1rzrb1ddLV0gM3JnqG08jtPoSgE7IosN7wSivJp8wcHyi7bim6bKm6Ki1StcMiFDlIYyojLyOtqyaONoXJtfmK7/MV+qfKo7h9OoJ68jlyif8FtDujo26sz/R/yWssSzXDc/s45DgmW2XI7UbhNDOtE9qZHUx+0KONEQ7pum6b7pvXs1+fN+6fdFckfamXHTWyNS2H0kty4Ef0MkXUXlz70dQc338/a+fmvbtMjqF05M5Gl+vFzusZHJcn4FnzS32I864KI0CTOQT2mw28J3jT5Kor7kPZ6X0y0CdcGTbXwSd5G03zbc/0gLETmA6lLguglsQcjY+Ry9VuulZ7xHrKwpJgWLW2yPaX3Rxwm2JtylDIsEzzIIezdEEG2y7UdDUJQRz3cERE18roSpRkp6WqMETEpED2HQtII9Fp8xLxpWIYUdpa4biLJSlKul4pSlKIqtx3+NDqD/UHD/wC8cirh6nNfLB066XP5ldZcVq53OUFjx0Jgl6V67vgax0kmiijUce2bjrhEOzbZ8VU1AS5sd/jQ6g/1Bw/+8ciq0qo65GWqqLXzX5taf6g6E6f4+tne1zw243WVJeuN6uci/QxfuVyfLnIlO/jPtGar4VV2FBHdeNSX7/Whv55cH/WGJ+0r9AKVDU10MyM9HfMzM5EdEeSXGzcydTot7g48mJaG2DBgMDWiwGeQHivz6TqA0VeekR4GplhuL0VhZLjVtlJNcVtPmoizyU1T6oKKqfkr6turzeUhbZGm+l+pWbw7mRA3PsuKShhNqm325MkWWU33/nrtt528b/oHSvSW6FKDCcHRosV/K7QPRt/VfMXpAqTxZjGN8Cfnb0WLLTo31aahqTR2jFdI7YTkuOcq7SRv94QUFPTvtRYpDEHdd9xOSaou/tVBTnbOmHRnpTgl6jZvl7tz1GzOM76hi95U6kpIDvNp3eDEREjxEF5rm2QB3W+RCjqj4q+qVINFwpRsPD/x0u1jvrau/mNz4XstZn61P1M/5qKXDhoPIWCUpSthWLSlKURKUpREpSlESlKURKUpREpSlESlKURKUpRFm3rr3cwHAIjfpVdf1JsHAXURTLtm46fa/wC2gNmS7fyBc+m9QypH1izrlc9RNGMHaszMq2pcrzlk2SZe6OUGEkRlET5KhOXZF/KigKp9ajlcxdN0yyJWYEBurYdz4udl6X8Qpd6PoLmSESIdHP8AgAqys2QWTT3Ks5XPb5Dtbl2ugXeDKmqDAS4SQo7SC0Sr+MJo2XBIE9ybgSoiOgpRoBlW8NMLFao7GN3K5ZRfLpb4M+3qXYhmxcXE5sNuBwVG5DKKHMVFTRFTdFGrypUbMrjWEvEPrFtjmLXEJ0NpDdmwA2rkG97WGyFtbqcXAN2sgbjLPth5zvysDlxN1Tem2UWCxO53k+eux7ZmEafFZy5IyPnEZAARqE8yK8iGObPFxTX5KTimooOwyLSKf8QXKH4Upu7Wlbwnor/yFXLwXpWEedJWwFo0BwSYE2kQOLKBxRW1UrCpXnN1aHMti7MMhz9kZuuGhobYNGyDYWIALiA0gWJaHL7gST4RZdwIbc6WJJvck3tne5yBJubgEhKUqGzW8l1gzZdCNLbhLiXAgbeyvIoapxxa3n7kJSVNvVyBQm2GxXmm5PbIDalXxQaHOYinmSEk27nanc0b3OO4D+wuSAq1KowKXLumZg2A8ydwHM/30Xd0u0/ndSOrF5uEHJ8kxvC8AjvWNy94zeHbXcbleXTaN+GEllVIojLbbSuhuG76M/bRtdru/A9x/wDPzr5/zNun7Sra070/xTSvCLNp5hFqat1ksUUYsRhsURVRPJOGqInNwzUjM18mZkS7qSrUirtagUaDh6mwqbLm7WC1zqScyfEklQDUp6JU5p83F1cfIaAeAVB/ge4/+fnXz/mbdP2lcTHRtY2VdVzqF6gX0ccUxRzUu4p2k2ROA8STx43926+V8/LbQNKzFyrCyoP8D3H/AM/Ovn/M26ftKpLLcDXQHXhjCgym+3qxaj2Zy8wJuS30rjcXLzAVtiY0jjg91wFiHAIeZlx7DiCm3hN01mjrptkyJiWn2pFuj28Fw/O7aVynSEATj2yeLtufETLzxJ2XGUhT+YJL9jdNXxnSW1uhTMo4XOyS37zes31Fu4kLMUGdNPqMGODlcA9xyPoojSlK4hXQiUpSiLhmQ4dxhv2+4RGZUWU2TL7DzaG262SKhAQr4IVRVRUXwqLUcw+56ndObvqNGgTIsKR6RIk6eTZDcdlknURSctcsgUopI6PNY5qscu69xRoiQklNKz+HsTVLDEz9Jp8S3Fpza4cHD55EbiFjKpSJSrwvZTLb8DvHcf0OIWktItXcJ1twtjN8GmvORidOJMhy2VYm2ya3sj0SUyvuZfbVU3FfCookKkBCRTOsHTWc001zE9adGmmjyNGW2L9YHnezDyyC3vxjvFsqNSm0UvTytlUFVQNCaMhrY2mGpuJau4bCzfDZhuw5W7b0d8O3KgyR8OxZLW6q0+2XtMF8oqfVFRV65wfi+TxfJfSIHViNyey+bT82ncfDIghQlXKHHocx7KJm09l3EfIjePkpXSlK21YRVbjv8aHUH+oOH/3jkVWlVW47/Gh1B/qDh/8AeORVaVESlKURKUpREpSlESlKURKUpREpSlESlKURKUpRErLWkXVPOa030ugXazai6p5ZqC9krcWXGsFps8hVtc1wHklMnNbjRuIcQDZ1VcRrdeJlxrUtZ5006V8i09laSSXdXEuX3t38rkXQUsAM/HivT7jyf64vS9lw0X28+fHb2Iu1VVDdRy964X/W269P930g1GyjBcY1JuORQLrGSz25LpzhQpDiAaTGJIMm1IguNkgiqEjhefAqnWxLUjVR/V+64/qzlGrWF27J8uyHG8KdWzY83Ynm2G3hioLrkY5vfIWnZLBPIjTvbAU74oSOeXLwHIOne5dNeN5A7lufxsQvWV3G95JYsLmSAbGVDmI2rsWCL5NKTs9tsUTdC7Zl4RF2s6RoxqD90lpzPWPW2VmmM6fXa4ZXZrXBw8Y1zKR2XW4ySHIZGsz08d58QajxmTecMVJD2RtSou70p5LneS4vnH3fZ3LyuTZdQchsECXLhRIz7UGFKWMy24kRppszXtE4p8BVVdVNkRBRLrqhuj07k7iWfyrji2R2MJupmUXGEF8s0m2PSocqaUliQDMkAd7ZNvD5IUXkJiqbitXzQqo0WfY3Xr0uTe8sDOL9MBh5yO4cbCr68COASiY8ghqiqioqL5rnHrm6bDIQDJ8pIiXYUTAsgVVX8ifwKr7ql+qnVzItM8AZsmnStHn+ZvlZsb5q2QwXFBSeuTwHy3YjNpzVeDiK4TDZDs5XjHjwpWE6PGOy1oJJOgAzJX3DhvjPENguSbAcSVn57MLTrRrZlms1k7cmwxoMHEsamlAlRHn4jArJmOEEgRXzMkuMqqAP/Q0TyqKqySvIxHGLbheMWzFLT3Ci2uMEYHHNlcdUU9zrioiIThluZFt7iIl+tevXEGK647EVYj1E9lx6o4NGTfQC/O66FotPFLkIcrvAz7zmfX0SlKimW6saZYJ6ocvz2xWp6Gz6h6NInNpIQNt0VGd+4SqnyQRVV+iLWEl5aPNv9nLsL3cACT5BZCLGhwW7UVwA4k2Urrily4sCK9OnSWo0aM2TrzzpoANgKbkREvhEREVVVfCIlRO03nWLU1Oxololfp8Z5WUayTKWysdmFp9lTalNo+iSpbSLtyRhld0+ReRUrTwvokjXyRFyPqXzNzPZrRtyWsZggcHGYToqy4grHQu7PUHAdFDkkrbjbuxMIqVJeHuiauVhwiTjfo8Pi7teDNb/AHtlalU8a06RBbAPtH8tPF2nldVjiELUXqOuQWnRx6Tj2GCZrcNRJEIXY7qNmorHtTLuyS3CcEgKRsrDYg4qKZ8BXYmluleF6OYizhmDW0o0MHXJUl991XpU+W4u7sqS8XueeNfJGS7+ERNhEUSTQYMG1wo9stkNiJDiNAxHjsNo22y0CIIgAjsgiiIiIieERK566Qw1hWm4Vlvo8gzM9pxzc48z8ALAbhmVFVWrM3WYvtZl2mgGg7h89UpSlbIsUlKUoiVRPXGTLHS1m9xftjNwG2Db7mkZ53tg4ca4Rnx5Lum6ITaKo/ytuP1q9qovrcApHTbkNuGHFlJc7pj9sNmSJq0bcm9QmDQuCoX2XF8p5RdlSvKYc1sJzn6AG/kvuGC54DdbqrqidxyO83PLZWF4o/b40i1wWJ9wmTWCkg2j5uCyyLQOtlyJGXTUlJEFBBEQue4Syojcscvtsy+RmmIx7ZJeusJiBc4c58owmjBOEw+DwNOLyHvOAQEKoSECoQdvY+Dqf7Iuf7S21s9W/Z2rjW+XZ2rXy2rXyXR8zt2bs3tfO2ts9PG199r2Ueu2e58zjgLGt9ng3y3ZRAx27FKbN+M43IcZAZMYAdEvckphxAMkUfeCqSohLzTM/wAqxG6ZVDymJFu0TH8XHJAl26CcNtVQpKHGPuPO+8kYRRVNk257/JN+G86a5PesaC23KTZrjLveUW++ZA3KFfShGYcYIo8cUBVc2CKy2iuInP3kXHkgp8wtI5tmezTFLA5a4OE5hBkOpHQTKRAuT7fZe7be3BY5Agnw5JxPcRRBVNtiBpJhbLyy+dwAbHrMvZ3aFutsje3U3sDiiJ0Pu3atlbMcHajThc7jyuR7+nl4y67HcEybI8Nu4RxYbQseR1Fjyti9Qy6huOboK8OBbiS+7kA+KmVQ3EcZyZrI5WZZY5b40+VaIVoKDa5DjsRew4+4r6K4AEikUghQNl4CP2i5e2ZVr1UMIzJMG1rDS1gbC4yyOe8ZFZST2xCAfe+euuvPNKjGIagw+mDVV7Nbvd/Saa5676fIYLbLzpQb5219PcY8dltxx430aGM622KEpE06SkgFxkMyZEt0R+4XCUzGixmyeffeNAbabFNyMiXwIoiKqqvhESu90o4TJ1bzVOpi/wAWUzjNobet+nUZw0b9ULgk1NvDjW3NO4m7DCGqKjXdNW/xoFUi9EMnUo1eExJnZhMB9obZFp0b3k2I4Wvnax1bHEeUh00wo4u9x6g3gjf3Aa99lYP4dHTV/SjKP1CyD9yp+HR01f0oyj9Qsg/cqvyldY5KFs1nvQvV7AdZ+obU3ItPLrMnQbfh+I22SUu1S7e43IGZfnVBWpTTbn2Hmy5IPFeXhd0XbQlKVRVSlKURKUpREpSlESlKURKUpREpSlESlKURKUpRErzMayjGc0ssfJMOyK2X20S1cSPPtktuVGeUDJs0B1tVEuJgQrsvghVF8otenWD9Ecw1CvOM9POn+PazQ8NgZXL1CauC4vYLJFW6pb7g76YorJxXI7XFEIz7TS80MyJVJedVsqE2WyM31U0w0z9F98jUfFsU+Jq4kL45eI8H1Pb49zt94x58eYb8d9uY7/NK4LjrHpFaMiuOH3bVTD4V+tEU51xtci+RW5cOMDPfN55kjQ22xZVHFIkREBeSrt5rKmmea5LqhK6Rs+zm/wBpyW/v5DmcN6+QGGmglts2+6MC4ItpwHmEdojENh5j4TZE26Gg+RXTFcl02eyqw6a3655JqVntkuARrQBZRZL6Uy4uyprckXSE2SZjtNv8WmiBhyN7jDiNLKl1svDNQMD1Htbt808zawZRbWZBRXZlluTM1gHxESVsnGSIUNBMFUVXfYhX6pXvVQ/SFHZZx7U1xqO02T+rWZuOEAoiuEl0dHkXjyvERHzv4FE+lXxVCqjNKx91naOWvHb/ABup60Wu7PBHZC0Z0FslS2nhs67cbiCx3BNPTEIK6giW7Kka7dlFqfxofX+73jmZH0+xfxziNNtWW9P/AIrkvBSJZQe5R23RB2Rfkq/Ovm5Y51xXm3SrPeMg6ep0CcwcaVFk4vd3WX2TFRNswKaokJCqooqioqKqLVrPSUOoS0SUjE7LwWmxsbHgdx4L2l5h0tGbGZq0gi+mSoePpZhsphuTFvGWvMvAjjbjea3chMVTdCRUlbKip5RUrk+9Lin/ALyzD9c7x+9V1dK7dkWAnetCM3mW+VkWnLkaEb9vF9I0i3PsC9BcbV0BXYWiVhUUjJCjEpGSryWe1xXXItYodRjU6PMRNqG4jtuzG466EWI5FT9T2SNRlYc1DhNs4X7Iy4jTcclWcvpy0nnqKzbTeJXBwnWxlZFcZAA4X2jQHXyFCXzuu3nda9rEMe1V0qnNPaRarW6zQC7az7bOwi0OM3Em04iT7sJmJIMtvCkrqku6+7dd6mVK9JDHOIqYby82/wDEdseTtoL5mcO0qbFosBvh1f8A1svRx3rB1axJtiNrdoUV0ZBhv1F+09lrPaV83+Gy22T25LYACoREBvr43RPKoGhdMdX9MtZrAmTaX5pbchgJxR1Yrio7HIk3QH2SRHGDVPPBwRLbztWaah+RaXY/eb83mlml3HFcvjpsxklgkLDuApu3uLhCnGQCi0AKDwmPDdNk3qUcPdNcVrxBrkEFv12ZEcy0mx52I5ArT6n0fsLS+nPsfqu08Du8b94W9aVk/TPq2yXCrlAwPqgjQoyS3Rh2rPrc32rVNL7IpcW1X+ASDXgu6bsGRmgq2gbLrCp7p1SlKvLNm5GIHw3aEfDkRvBzG9RtNSkeSimBMNLXDcf16pSlKvlbpSlZgxrPusfUfMNSIOEXbRm3WbC8yl41FG62O6vSXWgYjyGjcJqYIKXalNiSoKIpCSoiIqJRFp+sqdbs4b5lei2lxQrirc7JZeXSJUU9m2mrRFXg26my+05E6N5XxuG3zJFSXrbuvT6ZfoH+rl5/fqz3iF7vmquc3/WrM7pjl5uaCWH2q6Y/GVq3SLZBkvKT0bk86ZNuyTeXkRryRttR9vGtL6Qq0yhYemIxPWeDDb954I9Bd3gs9hiQdUapChgZNO0e5ufqbDxU7pSlcXKfUpSlESuGZMh26G/cLhLZixYrZPPvvOIDbTYoqkZEvgRREVVVfCIlRPL9WMSxC5sY0qz77k80TKFjdhhncbtL4tq4XbjNIp7IAkXIuI8RJd/FTvTrpTznU64Qsw6miattkiyBfi6awXm5MR5W13bO7SR3SX79j9M3+I/Ft8lcRTBd8wn0e1bFL2xGt9nA3vcMiPsj3j3ZcSFrdaxPJUdpaTtRPqj58PjyUU0602ndW0uJLuVpcj6ItEMqRJlCTT+YugW7ceOHtdYiNughuPEgk6oC22igpmm56448ePEjtRIjDbLDIC2002KCAAibIIonhERE2RErkrq+gUCRw1JNkJBtmjMk5lx3ucd5PkBYAAABQvUqlMVaYMzMm7j5AcBy/wCzmlKUrNKwSlKURKUpREpSlESlKURKUpREpSlESlKURKUpREpSlESovatLNMbEVhOyacYvbyxVZa2FYtnjtLallb+qWLxBOx3uS9zt8ee68t96lFKIqTzvp2nSL9pjd9FL9imnsLTKVdZkOy/ckkq2vuTo5sEqMx5MVWuKPyT2EvcbqEv2V5WHJ07xaJfb1n2KYpi1rzy7wDhFkjlkbdlO7ACNDJNtW3pDIq0zu13R3RoUQh2FUlNKIqx0C0lyPSCwZLbMozeHk83I8rumUk/Ds621mMU5xHnI4NE++SiLqukhE4q7Ggr9ndbOpSiJSlKIsedUVtDF+qbTzMEW5PDnOK3PFngb/wCix3be8M6OZ+duRBImCnjf2+PClt81Nuto24tj0sub8yPHaiajQhLvC4vcV+3XCMACgIvuU5AbcthTZVVdk2WE1y301SbYFehzDf4kMX7wSPhZTDgCOYlNfCPuuPkQD8bpSo1ds4Zgz5trs+P3XIJdsbFye1bOwqxVMeTYErzraKZCnJABSJEUVJEQwUvOmasWNAxh7HrTdcjYy0nwt71tBlG0NpsnCB0n3G0bPiDvsL3IrRiqIo7VFjKZNxAC1movuyGyXXPC7QXC9rgEi4W4um4LLgu/V7ZccyAbaHIqbUqPYrmsDKZt4tI2+ZbbnYZDUedBmEyrrfcZB1s/xLjgqJCfheXzEk28V9YZmlszqBNutmjyRhxLlKtrb7qtqEpY7itm60oGW7amJIKrsq8VXZE2VfOJIzEIOc9hAbs3O7rC7c/tDMW1Ga+mzEJ5Aa7M3t4ZHyORXr3G3QLvAkWq6wWJkKW0TEiPIbRxp5sk2IDEt0IVRVRUXwtcOjesEvplm23TXUC5Spmks55uDj1+luk67iLpqgtW+a6SqpW8iUQYkEqqwqi04vaUDb71da52y3Xq3SbRd4LE2DNaJiRHfbQ23WyTYhIV8Kiou21bLg7GE5hGdEaCS6E49dm5w48nDcfA5EhYqu0KBW5cw3izx2XbwfyO8fNbOpWYekHUK/Wi4XXpxzZ+dMkY3GO64neJZuvOXWxK6Ik266SkivQ3HmmF3IVJs2CQPtEunq7Jp1Ql6rKw52VdtQ3gEHv+Y0I3HJQPNS0WTjOl4ws5psf18OSVRfTF/wCs+vn/AM15n9z2qr0qj+mmNJi5Xr01KjuMmWqklxBcFRVQOy2kgLZfoQkhIv1RUX61eq33ry+srNcvtuF27S/EMQzmWuoRSLddMgxuxyLkNitoICyVcRhp0xekNmrDK8E4qbjvJFZQSpCz3234/aodis2lmp8SBbmAixmG9NMh4NNAKCIp/A/kiIlbzpWnYpwTI4udDM/EiBrL2a0gC51Ju03O7XIaam+eo+IJiiBwlmNJdqSCT3ajL9cFhj7tD/Nzqp/y1yH9yrqO5zfiiT5Vs0Q1euCwOKqyGDXCM4+K/wAppJLbSHt9R35ePCLW8qVqzOhfDjTcuin8Tfk0LMOx7VSMgweB/NYftdm6mMquMNvG+m+XbLTMYRz4nlmRw7b2TVVTicZj1MgUTwvkEL5+35KsqsPR3q3mDDL+tmvDlobOOCP2TTqJ6AAkA9yQviMruSHAINhIQbY/Ii+FU9bUrZaV0d4bpDg+DKhzhvfd577OJAPcAsVOYoq08C2JGIHBtm/DPzKguk2hmkmhlndselGB2zHmJPFJTzAE5Kl8TcIPUSXFJ5/grriB3DLghKI7J4qdUpW66LX0pSlESlKURKUpREpSlESlKURKUpREpSlESlKURKUpREpSlESlKURKUpREpSlESlKURKUpRFnHrfUJGJ6cWYnZoLctRrUg+mbQ+Sxo8qZs4iqns/gvlU8p4XZURahFen1aZFIvmumk+mduusJWbHFu+bXmCYfjkRGfh8B0S2+pS5qbb7L21VfKDv5lcv8ATbNNi1uDAaexDF+RLnH4WPipf6P4JZT4kQ+8/wCAHzVdW6W9p1kOXlebZfZ8W/XJL3AkwYD8/mnpWGTjkjIErRgTHtQ9hIHA4kqi4geFKseVOOaeWmVDu1onycjvN8mSLa23KC1tvMT3EadeNs2kLeW235FUIkPiq7ItXFSo1ZWix3tBDG0RYncf3boYNtNHXINwTpYZLa3U8OGztGwNx/MHHPwsNLDic1TeHWzO2GckskixRpGWLd2G77kE5ly3sX23cFRp2O4y2SI4LCAyrY7I2fMt+S7lMdN5N2cS/wASbjEezw4d4lNRO2r4lI3cIjc4Ox2h4KpCom2TgnyL3IqLvM6VSbrJm4cRhhgbezoTkRbQXsBlZrbWa3qtyAVYMgILmuDidm/DO99TrfidScylKVE7BikzqfzF7TnG5ctrAsfmiOc3uORAxNUCTnYGXBITV10C3fcaJOy3sKrydQa9sNYbnMUT7ZGTGvadbJrd5PyG85L4q1VgUeWMxHPcN5PAfPgM139F9GcS6tL/AHLUbUixQb7pfjzr9nxaA+rvC73EDQZd0VR4ibDaiUZlEIxIkkGqCohVzfgFdHn5gMX/AOE5/jq7rDYrRi9jt2M4/b2YFrtERmDBisps2xHaBAbbFPoIiKIn+xK71dpUWky9BkIVPlBZjBbvOpJ5k3J5lQFPzsWozL5qPm5x/wCh3AZKg/wCujz8wGL/APCc/wAdWLpLoppfoXYrhjOk+JsY9arncnLvJiMPvONlKNttsjFHDLgigy2nEdhTj4RFVd5vSspcq0slKUqiJSlKIlKUoiUpSiJSlKIlKUoiUpSiJSlKIlKUoiUpSiJSlKIlKUoiUpSiJSlKIlKUoiVj7RDXnUa36c6PYXh+ntzyu75vIzBqRNzrPyckW4rVcHRVJE1uA4cjnuQN8WU7Yg2CqSJzrYNUrgvSlhWn8jTOTaczzSSel7uQvQEl3Fk0uZXhw3JKz0Fke9wM1Jvjw4qiKXNaqqG6qS46hXHqMu/TRks8s3wWDmF3ym233G7VlUyAjhRIMv2uyIJsm8gSIAm0aKKKBl42NUr0rbp1Zsr6rJ2n2J5vqnHxfTbG0kZUI6oZA6M+8XRP4FDcF+QRiLMVt6TzYcFVOQwhKnBRLsXbRHLNEbloDZtLcNzPUjG9OLrklxus1+82xbsnrYkkG0JZTsVt5SenH5FU4gz53VU3u3HdNbXprfNRNSbOl9yO+5tKbu86KRxBddONEFiPDi7oy2Io20AD3nPtLubnlSoqKB9HY3JvE9QYtxynJL4EHU3J7dDK+3iTcnYkOLMWMxHbekmbqti2yK7ERe4jVV3JavqqU6VMcz3HMXzb74GCzMUk3jUHIb9b4cybEkvOQJspZLLhrFddbAk7pAocyVFbVd1RUVbroVUaLPsbq3vEzvFF6ROoIgaecY5O43AY5qBKikIuzhJRXbdC22VPKVzj1U5CZiCdIeve5KiJvZbWif71W4bJ/vq+6z51Z6q3C2WeNojpxlTdtz7NGlJx+NKUJljsSEoyrmKCiqJKqenZXcFV51DBdmXONtNzcCQl3zUwdljASTwAzK9YECJMRGwYQu5xsBzKo6xZKWsmo+T9QUmI/HjXpqPYMciTG4/qbfaYfLm2Zs7pycmuS3CTmeydtEJUEdpfXn2CzWnGbHbscsrIx7fa4rUKI1zUuDLYIADuq7rsKJ5Xytd/mH85P/vXEeJapM4hqseoxGnruyFtGjJo8Ba/PNdB0mThUuShyrSOqM+Z3nxK/tK8K657gtijhLvmaWK3MG4TIuy7iyyBOJ8wRSJEUk2XdPn4qKs9QGmt2uNxsWEzbtm14trKunbsTs0u7uubDyQQKO2Taqvy3U0RF33VNl2spSh1SfdsSsu955MceW4ZL3jVGTlhtRorWjm4D5qx68rJ8qxvC7LIyHK73EtVuiipOSJLqAKeFXim/kiXZdhTdVXwiKtcdp046q9T04Y/gtp0vsz6sqN4y2UEu6LGeZVVdYtsVSAHmyVPxcl4PkiEO6kg3Jpd0baZYReIec51Jnak5zFUHmr7kqA63BeRWT3gQhRI8NBeZ7jZCJPBzIe8SLUm4e6HKtUHCLVXCBD4ZOefAZDxNxwWpVTHclLAskx7R3HRv5nw81SmDaRak9UCNP5FbbngekExtXSdN1Y9/wAnZ22FsGtt4MM15KRn+OdbEEARF5THaOLYtjuEY5bsRxKzxrVZrTHCLChxg4tstCmyCif/ANVfKqqqqqq716lK6KoWH6fhuVEnToey3UnUuPFx3n0G4AKLajU5mqxvbzTrndwA4AJSlKzSsEpSlESlKURKUpREpSlESlKURKUpREpSlESlKURKUpREpSlESlKURKUpREpSlESlKURKUpREpSlESlKURKUpREpSlESobmOi+juol1av2oGk+G5Nc2I6Q2pt5sUWa+DCERI0LjoESAhGa8UXbcyXbytKURR/8FTpe/Ru0t/U63fsafgqdL36N2lv6nW79jSlEXfgdOnT5a4xw7ZoTp5EjuOi8bTGMQWwJwfsmoi0iKSfRfmlWAwwxFYbjRmQaZaBAbbAUEQFE2RERPCIifSlKIvulKURKUpREpSlESlKURKUpREpSlESlKURKUpREpSlESlKURKUpREpSlESlKURKUpREpSlESlKURKUpREpSlESlKURf//Z)"
      ]
    },
    {
      "cell_type": "code",
      "execution_count": null,
      "metadata": {
        "colab": {
          "base_uri": "https://localhost:8080/"
        },
        "id": "BTmByeqdft_P",
        "outputId": "6b5dd014-bb0a-46a1-9172-f2c062cd7de0"
      },
      "outputs": [
        {
          "output_type": "stream",
          "name": "stdout",
          "text": [
            "Entrada: [0, 0, 0, 0, 0, 0, 0, 0] -> Salida: 0\n",
            "Entrada: [1, 1, 1, 1, 1, 1, 1, 1] -> Salida: 1\n",
            "Entrada: [0, 0, 0, 1, 0, 0, 0, 0] -> Salida: 1\n",
            "Entrada: [0, 0, 0, 0, 0, 0, 0, 1] -> Salida: 1\n",
            "Entrada: [0, 0, 1, 0, 0, 1, 1, 0] -> Salida: 1\n"
          ]
        }
      ],
      "source": [
        "# Pruebas\n",
        "casos = [\n",
        "    [0, 0, 0, 0, 0, 0, 0, 0],  # Debe retornar 0\n",
        "    [1, 1, 1, 1, 1, 1, 1, 1],  # Debe retornar 1\n",
        "    [0, 0, 0, 1, 0, 0, 0, 0],  # Debe retornar 1\n",
        "    [0, 0, 0, 0, 0, 0, 0, 1],  # Debe retornar 1\n",
        "    [0, 0, 1, 0, 0, 1, 1, 0]   # Debe retornar 1\n",
        "]\n",
        "\n",
        "# Ejecutar pruebas e imprimir resultados\n",
        "for entrada in casos:\n",
        "    salida = OR8Way(entrada)\n",
        "    print(f\"Entrada: {entrada} -> Salida: {salida}\")"
      ]
    },
    {
      "cell_type": "markdown",
      "metadata": {
        "id": "NZe7ClJleX6F"
      },
      "source": [
        "# MUX4WAY16"
      ]
    },
    {
      "cell_type": "code",
      "execution_count": null,
      "metadata": {
        "id": "eOZqC8P3g4EY"
      },
      "outputs": [],
      "source": [
        "def MUX4Way16(a, b, c, d, sel):\n",
        "    return MUX16(MUX16(a, b, sel[0]), MUX16(c, d, sel[0]), sel[1])\n"
      ]
    },
    {
      "cell_type": "markdown",
      "metadata": {
        "id": "Ld7A8G78DVwg"
      },
      "source": [
        "![1.png](data:image/png;base64,iVBORw0KGgoAAAANSUhEUgAAA4UAAALsCAYAAABUXBKGAAAAAXNSR0IArs4c6QAAAARnQU1BAACxjwv8YQUAAAAJcEhZcwAAEnQAABJ0Ad5mH3gAADOJSURBVHhe7d19kF3lfeD5p9lgG/AAerFZGwy2JGJjKCAZSTiOMItjFxq0lZgtZyV2PX/spjYOGuJJ1WbABjsxAWOkxVUTkkBpt/DUJKkB7R+Dk1oUA7ZZIa1sFMVGVGKPjYQBY3ttSwixfi0ca/t3znmko6tuqVvqvt3N7/OpuvWcc+7tvuc2QvDt57yMHBhVAAAASOmkbgQAACAhUQgAAJCYKAQAAEhMFAIAACQmCgEAABIThQAAAImJQgAAgMREIQAAQGKiEAAAIDFRCAAAkJgoBAAASEwUAgAAJCYKAQAAEhOFAAAAiYlCAACAxEQhAABAYiMHRnXLMDU2x+8a/LGCobjCv2sAwIkxUwgAAJCYKAQAAEhMFAIAACQmCgEAABIThQAAAImJQgAAgMREIQAAQGKiEAAAIDFRCAAAkJgoBAAASEwUAgAAJCYKAQAAEhOFAAAAiYlCAACAxEQhAABAYqIQAAAgMVEIAACQmCgEAABITBQCAAAkJgoBAAASE4UAAACJiUIAAIDERCEAAEBiohAAACAxUQgAAJCYKAQAAEhMFAIAACQmCgEAABIThQAAAImJQgAAgMREIQAAQGKiEAAAIDFRCAAAkJgoBAAASEwUAgAAJCYKAQAAEhOFAAAAiYlCAACAxEQhAABAYqIQAAAgMVEIAACQmCgEAABITBQCAAAkJgoBAAASE4UAAACJiUIAAIDERCEAAEBiIwdGdctMg02bNpW//Mu/LA8//HDZt29fs23p0qXllltuKVdffXWzftye+Xgpz97SrQApXeGvcADgxIjCabZy5cry0EMPdWuH27JlS1mxYkW3dhxEISAKAYAT5PDRaXbNNdeU++67r+zZs6dEf8e4ePHi5rlt27Y1IwAAwEwRhdPs/e9/f3nsscfKZZddVkZGRsrChQvL7t27m+e+/OUvNyMAAMBMEYXTLA4fveeeew6GYN+LL77YLQEAAMwMUTiNtm7dWnbs2NEsr1u3rjl8NB5XXXVVsw0AAGCmicIhOffcc5sxrka6ffv2ZhkAAGCmicJpdMEFF5R58+Y1y9dee21zTuGqVasO3poCAABgponCabRgwYLy6KOPNvclrFavXl1uuummZvnMM89sRgAAgJniPoVMvc3xuwZ/rGAo3KcQADhBZgoBAAASE4UAAACJiUIAAIDERCEAAEBiohAAACAxUQgAAJCYKAQAAEhMFAIAACQmCgEAABIThQAAAImJQgAAgMREIQAAQGKiEAAAIDFRCAAAkJgoBAAASEwUAgAAJCYKAQAAEhOFAAAAiYlCAACAxEQhAABAYqIQAAAgMVEIAACQmCgEAABITBQCAAAkJgoBAAASE4UAAACJiUIAAIDERCEAAEBiohAAACAxUQgAAJCYKAQAAEhMFAIAACQmCgEAABIThQAAAImJQgAAgMREIQAAQGKiEAAAIDFRCAAAkJgoBAAASEwUAgAAJCYKAQAAEhOFAAAAiYlCAACAxEQhAABAYqIQAAAgMVEIAACQmCgEAABITBQCAAAkJgqn2fz588vIyEjZsGFDtwUAAGD2EIXTbN++fc24f//+ZgQAAJhNRCEAAEBiIwdGdctMgzh0NKxbt67ccMMNzfKUeebjpTx7S7cCpHSFv8IBgBNjphAAACAxUTgkcU7h2rVrD154ZtmyZWXnzp3dswAAADPD4aPTrB4+OpZ58+aVHTt2lEWLFnVbJsnho4DDRwGAE2SmcEgiALds2VKiweP8whBXJn3kkUeaZQAAgJkgCofkwx/+cFmxYkWzHBeciUgMDzzwQDMCAADMBFE4Q5YvX94tAQAAzBxROEO2b9/ejGeeeWYzAgAAzARROCR33HFH2bp1a7O8fv365nzCcOWVVzYjAADATHD10WlWrz4a5xDWEKwWL15cHn/88bJgwYJuyyvE5vhdgz9WMBSuPgoAnCAzhdOsXlAmbj2xevXqZjnE8sMPP/zKC0IAAGBOMVPI1DNTCMNjphAAOEFmCgEAABIThQAAAImJQgAAgMREIQAAQGKiEAAAIDFRCAAAkJgoBAAASEwUAgAAJCYKAQAAEhOFAAAAiYlCAACAxEQhAABAYqIQhuV1q0u54kD7uPxHpbz5T7onjuE155Xyjm8d+tq3/VX3ROeiv2m3x3g08XXxuqU7uw2jLv5cuy2+/3jO/tCh9459mYx4z/is8bUTseTP2v2rX1P3baI/KwAAJk0UwrC86qxuYdRJp5byxrXdyjEsuauUV59Tyi9+3K7/0untOFn16046pR3DN36n/b7x/ceLyjf9u3bc9/lSfvpsu3wsZ1xeyvJvlHLWB9rPeiwRmxGDZ19fymkXl/LyC6X85KlSfvZ8u2+vX9O9EACAqSYKYdgidl7eW8rJCyY2A3b6r7fjD59sx6kUkfeD/9wuz3tPG3N9MdMXURb7GwE5EfGZLv5sKaec337Wibjg/jYGIwK/OhqAX3pTKdt/uR0ff3Mp3/xY90IAAKbayIFR3TJMjc3xuwZ/rI4Qh2Eu+dM2lH78tVIW/GYpPxoNvR2XdC8YQxxOGbNnL31pNMy+337N3r8t5R9/q3vBqJjhG2v7oPq6eP8Irr44RDPir78/MXu37KvtTN+zt5byzB+1248lDvmM2cfvfrqUXb9/6NDRzSPtOCgOq337aBTG1/z92yc+G0nrvD8e/edzS7cCE/DOPe0vpQCgY6YQZsKu0UAMMTs2ODvXt/B97fj9+9pxunzrf2vH2J+I1xCzdxGEEZETDcIQh5lG3EUQTsQ5f9CO+z4nCAEAZoAohJkQ8ROzfyFmesYScVYP3fz2Xd3GaRLfv+5PnEMYs3env6Nd//oEDxutnnzP5OIuDjMNEZMAAAydKISZUmf/zvi1dhz0+mvbcbpnCauvrTl00Zm3fbrdFoek7t/SLk+XehjbD79Syq98sT20rX/l0WNdVRUAgBMiCmGmxOxczALGIZpx7mBfHFIaM3URac/f2W2cZv2LzsQ+xb7Vw1ynS/8WF5c+1n3mnxy6GE8EapwHGVcyBQBgWohCmEkv/F07zr+qHas3/WE77v/icM+ze9UbuoVRMYP36nO7lWmyoHdhnJiVfOJdh648um3haDj/eftcHGLqXoUAANNCFMJMeuaj7RjRE+fxVXF7iDDMq0rG+8/7jXa53krirfe243SJQ0aruHLq4KGqcbGaui+vPcpVWgEAOG6iEGZS/4Iz9SqccShpvernZM7nO+m0buE4veXWdowZu3pxmemeoet/vn4U98XtO8KpF7QjAABTShTCTKsXknntxe05dgdvQ3F/O07UqW/tFsZRozHO1RsUN6mPAKznEUasRRyGN649/Ny/qRbnTYbTLmzHQSe/vh1/+lw7AgAwpdy8nqnn5vVj69+8fvDm8fVm0nHz+LhXYMRZnFPXN95N6uvN38NX15Tyg43tcl//RvRxnl7/HoLjPRfbf/Uf2v0afM/JONbN65fubD9zzJh+ZYwrsdafzeB+06o/Xwjx98ZYv/jpc/N6AAaYKYTZoF5wJuIo1PWJiAis593FrSTqzeeruJLppVvb6PvZ80eGVf8m9f3n4tDWOosZMXq0m+yfiBcfa8e48mh/3yNK4xYV8T+vzQymIAQAmA6iEGaDesGZanD9WJ58bxt8EXcxGxkzAXEbh7jPX9zqIW7tEM/v7q5qWkWE1ZvUf/Nj7dgXIVaDc6IXnYmZv3jv+qj62/rnKcZ71PMqY99jn+M1MXtZb8vx1L9pnwcAYMqJQpgNYlZu3+fb5RiPdhuKn7/ULfTE6+NWDt/76zbiYnYtzhGMGIz12P7EiiMPLT37+naM9xzrsNPQvy3EeBeD6TtlSfva+qj6217zlm5jJw4bjX2McI19jtf880/aWHxy5fj7BgDACXNOIVPPOYUwPM4ppM85hQAcBzOFAAAAiYlCAACAxEQhAABAYqIQAAAgMVEIAACQmCgEAABITBQCAAAkJgoBAAASE4UAAACJiUIAAIDERCEAAEBiohAAACAxUQgAAJCYKAQAAEhMFAIAACQmCgEAABIThQAAAImJQgAAgMREIQAAQGKiEAAAIDFRCAAAkJgoBAAASEwUAgAAJCYKAQAAEhOFAAAAiYlCAACAxEQhAABAYqIQAAAgMVEIAACQmCgEAABITBQCAAAkJgoBAAASE4UAAACJiUIAAIDERCEAAEBiohAAACAxUQgAAJCYKAQAAEhMFAIAACQmCgEAABIThQAAAImJQgAAgMREIQAAQGKiEAAAIDFRCAAAkJgoBAAASEwUAgAAJCYKAQAAEhOFAAAAiYlCAACAxEQhAABAYqIQAAAgMVEIAACQmCgEAABITBQCAAAkJgoBAAASE4UAAACJjRwY1S3D1Ngcv2vwxwqG4gr/rtGzbWEpL+/tVsbxzj2lnLygWyG15r/XwFBc8YtuYXbytwEAQErxSyUPD4/hPGY3UQgAAJCYKAQAAEhMFAIAACQmCgEAABIThQAAAImJQgAAgMREIQAAQGKiEAAAIDFRCAAAkJgoBAAASEwUAgAAJCYKAQAAEhOFAAAAiYlCAACAxEQhAABAYqIQAAAgMVE4asOGDWVkZKTMnz+/2zK2JUuWNK+rj507d3bPTEz/a4/1XgAAAMMwp6Nw06ZNZdmyZQdDK5bvv//+7tmJ279/fzPu27evGceze/fubulIEYhr1qw5uC8RkOvXr++ePdKx3gsAAGAY5mwUxuzeqlWryo4dO7otpVm+9tpru7Xps27dunLgwIFyySWXNOsRhFdeeWXZuHFjsx4iIG+88cZy8803d1tK8zVbtmzp1gAAAGbenI3Cj3zkI8141VVXlT179jTB9eCDD5bFixc324cp4i9m/uK9IwZjf1avXt08d/vtt5enn366WZ5yz3y8lM0js+9RDrT7BwAAzHpzMgr37t178PDLd7/73WXBggXN8tVXX1127drVLA9LBN9DDz3ULN92221l0aJFzf5cf/31zbawffv2bgkAAGB2mZNRWCMw3HHHHWXr1q3d2pEi2tauXdtc2KVe4CXWIyynwne+851uqZRzzjmnWyplxYoV3VIpzz33XLcEAAAwu8zZw0dvuummZowZw8svv3zMi8xEEC5durTcc889B2cWY4z1lStXTkkYbtu2rVsCAACYe+ZsFH7iE584GIahXmSmH3t33nlnE4Fx3mGc6xfnHcY4b9685vWPPPJI8zoAAICs5mwUhgjDiLzrrruuCb0Q5/fde++9zXKdOYxtcRGYOHw0xjpr6LBOAAAguzkdhSEu7HL33XeXRx999GAYfuELX2jGGn/jOeOMM7ql43fRRRd1SwAAAHPPnI/CKu4ZuHz58m7tcHGYaRw6Ovj44Ac/2L3i+J199tndUinPP/98t9Teu7ASjgAAwGw1J6MwrjYa5w5u2rSp29Juq7d+iNnDUO8VGBeW6V+hNL5uyZIlh4Xb8YoYrfdG/NSnPtWczxiPT37yk822mL2MW2UAAADMRiMHYspsjonAiyuOjiUi7KmnnmpuWxHRd+mll3bPHOmJJ55oom79+vXNDejD0X4ccU5iWLduXbnhhhua5RCRuWrVqm7tcPfdd19Zs2ZNt3b4vs/BH/3EbI7fNbiBPQzFFf5do2fbwlJePsaVtd+5p5STD93aicQ2t/9fAwzBLP/v9ZycKbzggguaMIvbTVQxWxcXnKlBGCL4IvxixrCebxhjrG/ZsqV5PtRzC+trJitmAh988MHD9ieWY1s/CAEAAGabOTlTOFPGmymcDDOFwJQyU0ifmUImw0whDI+ZwleeONQ0AnGy5yTG14x32CsAAMBMEIWTUC8oMxWO91BVAACAqSQKJ2HXrl0Hb2cRj3pO4kT1v/aFF17otgIAAMwcUQgAAJCYKAQAAEhMFAIAACQmCgEAABIThQAAAImJQgAAgMREIQAAQGKiEAAAIDFRCAAAkJgoBAAASEwUAgAAJCYKAQAAEhOFAAAAiYlCAACAxEQhAABAYqIQAAAgMVEIAACQmCgEAABITBQCAAAkJgoBAAASE4UAAACJiUIAAIDERCEAAEBiohAAACAxUQgAAJCYKAQAAEhMFAIAACQmCgEAABIThQAAAImJQgAAgMREIQAAQGKiEAAAIDFRCAAAkJgoBAAASEwUAgAAJCYKAQAAEhOFAAAAiY0cGNUtAwBz2baFpby8t1sZxzv3lHLygm6F1DaPdAvAtLtidieXmUIAAIDERCEAAEBiohAAACAxUQgAAJCYKAQAAEhMFAIAACQmCgEAABIThQAAAImJQgAAgMREIQAAQGKiEAAAIDFRCAAAkJgoBAAASEwUAgAAJCYKAQAAEhOFAAAAiY0cGNUtw9TYHL9r8McKhuIK/67Rs21hKS/v7VbG8c49pZy8oFshtc0j3QIw7Wb5f6/NFAIAACQmCgEAABIThQAAAImJQgAAgMREIQAAQGKiEAAAIDFRCAAAkJgoBAAASEwUAgAAJCYKAQAAEhOFAAAAiYlCAACAxEQhAABAYqIQAAAgMVEIAACQmCgEAABITBQCAAAkJgoBAAASE4UAAACJiUIAAIDERCEAAEBiohAAACAxUQgAAJCYKAQAAEhMFAIAACQmCgEAABIThQAAAImJQgAAgMREIQAAQGKiEAAAIDFRCAAAkJgoBAAASEwUAgAAJCYKAQAAEhOFAAAAiYlCAACAxEQhAABAYqIQAAAgMVEIAACQmCgEAABITBQCAAAkJgoBAAASE4UAAMx+l/+olCsOtI+L/qbbOAG/8sVDX7d0Z7exc/aH2u3Lv9FtGMfrVrevi32o3vwnh7adcXm3ccBrzju03/H68cR+1Nf13yPU947HeO8T4rPFawY/46B37mlfF+856G1/dei9Bn/G9Wd1tM8b3vGt9nXxvcYS2+tnnYh43/hnWPc7HrE8mT8DHJMoBABg9jvp1G5h1ILfPHqYVBEUp7+jlF/8uF0/6ZR2nKxXndWO/X145o9K+clT7ba33tttHPDLo9vj+Z89375+POeNPle/d/89wg82Htr/1/337TiW0y4+NEaMjiV+ZicvaJf3jhFV8/9VtzDq9F/vFjrfvquUl/e2+7dofbdxwJI/K+XV57T7+8xHu42deO+I77M+cORnHE+E35I/bf8Zhvh5xyM+Q/wZYMqMHBjVLcPU2By/a/DHCoZior9pJYdtC9v/aTuaX/2H0f+hmtetkNrji7qFOaL+fffSl9pI2Pf5Up58T7ttPDHDFK+tXxNBsf2XuydHRTRGdAxuH1RfFzaPtGOIWby3398uP3vr4eHXf+6ra9q4G0uETwTO3r89FDr99wj9z/GVX+s29vT3LwzuSxWzdBFlEalfelO3sVP390dPjkbw2W147fq3bQxW/fd54l2l7N/SLlcxgxdfF5/lH3+r2zgqZknf9L+2MRg/61POb7cPfs6+CMyzr28D81ufOvLzxL709222m+X/vRaFTD1RCMMjCul7bPTvX/9Z55Wq/n0XoRJhErGw5bR221hiZurSx9pflDw7GiVjxd+JRmG4+HOlzPuN9n2+/C9L+emz7faYFYv4OVq81hCLr41f6tTPOPge/UAa6zPXsIzvE1E2XjzGoaUxk/i9vy7lv/zrbmOnhue3/7yUUy9oP9NY36d+rsHn6j4O/hxCfK7Y9+9+evSf3++P/zn74hDTiMjBMJ2rZvl/rx0+CgDA3BGBEDNdEQwRIuM574/b8aX/px2nyzd+pw2eiLElXbzEfkU4xfZ4fjxvubUdI1qP5vk72zE+c4TkoIi48MLftWOdiRt0ypJ23Pt/tWPfa7vDT+O9vvt/tMuxbfBQ1IjGEAHZP4T39de24/fvOzwIQ4Tx37+9DcKJiJ9fnVV8JQThHCAKp9mmTZvKmjVryvz588vIyEjzWLZsWbP9hD3z8fY3LLPtYZYQAJhOez7Tjgvf146DImTO6GaxvtUF1XSJAIoZsDDvPW201UCK7YOBVMWhnHXG7VjhE98jAimc9T+0YxWfNb5PzNDV2b8I1MF4jNnOCK143eChrDXC4tDReK94Pl4X2875w+5FndjXui/13ML4+njP+Jqxwi9mSsf7OYzlXyxtxx9/rR2ZdqJwmt11111l48aNZd++fd2WUnbs2FFWrVpVtm7d2m0BAGDCYjYrZuHioiZjzZxFyETQRHANnvc2HSKEIpTiPd82GoIRSLE+3sxYhNzr/rv2M3xtTbfxGF56vB3rrGD1X3czkTXUIuzCgv+2Has4HDT88Il27DvzXe344mPtGOrr6nN9/dnC+Cw1zmOWcCrEzy/8cGd7aGy9omk84rzFONR1cAaTEyIKp9k111xT7rvvvrJnz54Sp2/GuHjx4ua5bdu2NSMAAJMQs04/7OLnnD9ox77+oYzD8s2PtWOEYajrY7nob9vXxQVUJjqD9t3/vR1jVrAfRKe/sx3/vx3tWMPu9MvasXrtr7bjSwP//xnfq165tB6mGuohpPHc4JVe+7OF8VkizsebJTwe9Sqx543+DONcyViP94vDhiMYI0aXfVUYTiFROM3e//73l8cee6xcdtllzaGjCxcuLLt3726e+/KXv9yMAABM0vP/vh0Hz3uLwyQjHCIghnk+2mkXdgudM1Z0CwPiSpwRWhE5R7tNxaCY8YzwCnV2MJz61nasQfeD/7Md++cVxs/n4K0iBt7zzbe1Yz10tIpDSONnGN7wu+3Y9/VuH2pQTmWAx76G2Ke4cmtchCcuBBRXTI31+BwR1XHLD6aEKJxmK1euLPfcc8/BEOx78cUXuyUAACalRkvEQQ2b8IYuVup5h8MQ0fXGte1ynUF7w/985ExWfV1ETY2qyaiHdM57bzvW2IufQw26iMcac/WG+QcPMd3Vjn1n/jft2D90tHrx/27H/v0Lq3ifODw3TOUsYajx+93R6Bs8/zHW932uXX7Nue3ICROF0yjOGYzzB8O6deuaw0fjcdVVVzXbAAA4ATX8arTEYY4xcxXR1T8U8liO96b2VVx1tJ5HGDNaETVjzWRFnNXz5eKG93F7h/6jqusx69lXD/2ss4D1IjA//no7VnW9HlpaI3Iw/OJ8zDorN3/0/0/7+xKPGoyxz2Odu/ny99vx5y+041Sp3+9fLGvHQXE109CfDeWEiMIhOffc9jcZcdXR7du3N8sAMKVc/JnJiAuGz3X1gjMRLRFQ9TYU+784uatdRhgNzur1nbywHesMVl/EUr3pfD2PsN5iIi7u0o+pX5rXjhGMETSDj2qsbSEO/ayfN75vvUrn4HmCcfP48NpL27F+n3poafWG/6VbGNV/z/qowRjGOndzuvziJ+34qje046DYt1BnRDlhbl4/jfbu3VvOP//8w6482hczhp/97Ge7teMQt6R49pZuBUhplt8MlyHbelop/zz6P4xHc/6GUt44xvlB5NPcRmoOGe+G5/Wm6zFL9+qz2+B64l2HX3W03ny+zuT11Zukj3VD9ypmzSJEJnMz93qj+LHeczzjfca+/g3oY4Y0AnGs1/dv/h6fPQIqzsnrq6+Jq4mOd/hn3DrjrA+0MTp44/x60/zJfMZwrM9Z3zMiPM4nHFT/mY/1z2O2muX/vTZTOI0WLFhQHn300bJ0afdbnFGrV68uN910U7N85plnNiMAAMepXnAmwiwCJy5OMpnbUNTz0yJCIkb6YvYwAiS+d0TR0zd0T3T6N6kfvLXEU9e3Yzwfr5sq9RDQOLQzgjCCbCz1/MHzugvL/HDgAodxvmH8vGLfj3Y+4DMfbcd47VR+jqOpV1qNzxfh2Rf/jCIIw+A/D46bmUKm3ub4XYM/VjAUZgrpM1PIZLxSZgpD3MeuHur47K1HXmHzaDOFoc48hYikn327XY6gC7Etbh/R/74RjHFbhIil8WYZ60xafP3fv/3Yh7ROZKYw3veyZ7qVUXGo6D/+VrfSEwF3dhemIa7a2b9oS51xnMhsW31tBPeOS7qNoyY6Uxhf3z9vs/5c+0H7/fsP//n29z9mDOM8w1+a34ZiONrs5mxkphAAAKbR//sf2jEOkRwMwr56rtqgiKKIyXrj94iWeMT3i4uaPLnyyO8bF5eJIIzXjHfY6a7RGI0gjNf1r5A6nnjtsURY9mPqe/+pWxgQ5w/W7xf7OHgVz4i8UGdajyauAhrq11Q/f6kdx/u5VqcsOfQzrUEY+tte85ZuYyeCr/4ziRCM1/xXo2EZ63FI7FwKwjnATCFTz0whDI+ZQvrMFDIZc22mEOYyM4UAAADMVqIQAAAgMVEIAACQmCgEAABITBQCAAAkJgoBAAASE4UAAACJiUIAAIDERCEAAEBiohAAACAxUQgAAJCYKAQAAEhMFAIAACQmCgEAABIThQAAAImJQgAAgMREIQAAQGKiEAAAIDFRCAAAkJgoBAAASEwUAgAAJCYKAQAAEhOFAAAAiYlCAACAxEQhAABAYqIQAAAgMVEIAACQmCgEAABITBQCAAAkJgoBAAASE4UAAACJiUIAAIDERCEAAEBiohAAACAxUQgAAJCYKAQAAEhMFAIAACQmCgEAABIThQAAAImJQgAAgMREIQAAQGKiEAAAIDFRCAAAkJgoBAAASEwUAgAAJCYKAQAAEhOF02z+/PllZGSkbNiwodsCAAAwe4jCabZv375m3L9/fzMCAADMJqIQAAAgsZEDo7plpkEcOhrWrVtXbrjhhmZ5yjzz8VKevaVbAVK6wl/h9Gw9rZR//nG3Mo7zN5Tyxt/tVkhtc/v/KMAQzPL/XpspBAAASEwUDkmcU7h27dqDF55ZtmxZ2blzZ/csAADAzHD46DSrh4+OZd68eWXHjh1l0aJF3ZZJcvgo4PBR+hw+ymQ4fBSGx+GjhAjALVu2lGjwOL8wxJVJH3nkkWYZAABgJojCIfnwhz9cVqxY0SzHBWciEsMDDzzQjAAAADNBFM6Q5cuXd0sAAAAzRxTOkO3btzfjmWee2YwAAAAzQRQOyR133FG2bt3aLK9fv745nzBceeWVzQgAADATXH10mtWrj8Y5hDUEq8WLF5fHH3+8LFiwoNvyCrE5ftfgjxUMhauP0ufqo0yGq4/C8Lj6aG71gjJx64nVq1c3yyGWH3744VdeEAIAAHOKmUKmnplCGB4zhfSZKWQyzBTC8JgpBAAAYLYShQAAAImJQgAAgMREIQAAQGKiEAAAIDFRCAAAkJgoBAAASEwUAgAAJCYKAQAAEhOFAAAAiYlCAACAxEQhAABAYqIQhuV1q0u54kD7uPxHpbz5T7onjuE155Xyjm8d+tq3/VX3ROeiv2m3x3g08XXxuqU7uw2jLv5cuy2+/3jO/tCh9459mYx4z/is8bUTseTP2v2rX1P3baI/KwAAJk0UwrC86qxuYdRJp5byxrXdyjEsuauUV59Tyi9+3K7/0untOFn16046pR3DN36n/b7x/ceLyjf9u3bc9/lSfvpsu3wsZ1xeyvJvlHLWB9rPeiwRmxGDZ19fymkXl/LyC6X85KlSfvZ8u2+vX9O9EACAqSYKYdgidl7eW8rJCyY2A3b6r7fjD59sx6kUkfeD/9wuz3tPG3N9MdMXURb7GwE5EfGZLv5sKaec337Wibjg/jYGIwK/OhqAX3pTKdt/uR0ff3Mp3/xY90IAAKbayIFR3TJMjc3xuwZ/rI4Qh2Eu+dM2lH78tVIW/GYpPxoNvR2XdC8YQxxOGbNnL31pNMy+337N3r8t5R9/q3vBqJjhG2v7oPq6eP8Irr44RDPir78/MXu37KvtTN+zt5byzB+1248lDvmM2cfvfrqUXb9/6NDRzSPtOCgOq337aBTG1/z92yc+G0nrwgdK+d5/7FZIb++Do3/9vtytjOP8DaW88Xe7FVIb7+9lYOpN9FSaGSIKmXqicGz9KHzyvaVc9ky7/Yl3lbJ/S7s8qMbarn9byrzfmL4orPsW4r2+fVcpv/LFUk5/x9ivP5o4TzFmFWvcHSsK6/sca/8Z23l/PBrtt3QrMAGikEoUwvDM8ih0+CjMhAimmP0L8T/1Y4lQq4duRqRNp/j+dX/iHMKYvYtQC1+f4GGj1ZPvmdxsXxxmGuKcRQAAhk4Uwkz5/n3teMavteOg11/bjvV10+1raw5ddOZtn263xezdeLOYUyXOrQw//Eo7a/jOPe1v0+IRM6XjXQAHAIApIQphpsTsXMwCxjl7ce5gX1zwJWbqItKev7PbOM36F52JfYp92/Whdn269G9xcelj3Wf+SXvIarx/BGoc8hpXMgUAYFqIQphJL/xdO86/qh2rN/1hO+7/4nAvvPKqN3QLo2IG79XndivTZEHvHMKYlYzzK+uVR7ctHA3nP2+fi0NM3asQAGBaiEKYSc98tB0jeuI8vipuDxGGeQGReP+4mE2Imbrw1nvbcbrEIaNVXGRm8FDVuHpp3ZfXHuUqrQAAHDdRCDOpf8GZc/6gHeNQ0jh8M2JoMufznXRat3Cc3nJrO8aMXb24zHTP0PU/Xz+K++L2HeHUC9oRAIApJQphptULybz24vYcu4Xva9e/f387TtSpb+0WxlGjMc7VGxQ3qY8ArOcRRqxFHIY3rj383L+pFudNhtMubMdBJ7++HX/6XDsCADCl3KeQqec+hWPr36dw8L5/ccXNOIcvbh5/2mgcRpzFOXV9492PsN78PXx1TSk/2Ngu9/VvRB/n6cVhmdV4z8X2X/2Hdr8G33MyjnWfwqU7288cM6ZfGeNKrPVnM7jftP7lV0aDubvnJXzrjtF/lx7vVsbxtr8u5az/sVshNfcphOGZ5fcpFIVMPVE4tqNFYczUnfWBbmXU90b/p+2//OtupXO0m9TH1Tljpi9m3Z7+SHtl0yquZHrBf2qv5Pmz59sLufQd7Sb1cSjr2de3y0e7yf7RHCsK++9Rb5wfIkovGI3d2LexIpnWLP+PDEP2T9eUsucz3co4Lnzg0BEJ5CYKYXhm+X+vHT4Ks0G94Ew1uH4sT763Db7m9haj4RmzaxGKcZ+/uNVDDcLd3VVNqwjVepP6b36sHfv6F3qZ6EVnYuYv3rs+qv62/nmK8R71vMrY99jneE3MXtbbcjz1b9rnAQCYcqIQZoO44My+z7fLMR7tNhQ/f6lb6InXxwxgzDBGxMXhljFzGDEY67H9iRVHHlpaZ+jiPcc67DT0bwsx3sVg+k5Z0r62Pqr+tte8pdvYicNGYx8jXGOf4zX//JM2Fp9cOf6+AQBwwhw+ytRz+CgMj8NH6XP4KJPh8FEYHoePAgAAMFuJQgAAgMREIQAAQGKiEAAAIDFRCAAAkJgoBAAASEwUAgAAJCYKAQAAEhOFAAAAiYlCAACAxEQhAABAYqIQAAAgMVEIAACQmCgEAABITBQCAAAkJgoBAAASE4UAAACJiUIAAIDERCEAAEBiohAAACAxUQgAAJCYKAQAAEhMFAIAACQmCgEAABIThQAAAImJQgAAgMREIQAAQGKiEAAAIDFRCAAAkJgoBAAASEwUAgAAJCYKAQAAEhOFAAAAiYlCAACAxEQhAABAYqIQAAAgMVEIAACQmCgEAABITBQCAAAkJgoBAAASGzkwqluGqbE5ftfgjxUMxRX+XaPnn64pZc9nupVxXPhAKQvf160AgJlCAACA1EQhAABAYqIQAAAgMVEIAACQmCgEAABITBQCAAAkJgoBAAASE4UAAACJiUIAAIDERCEAAEBiohAAACAxUQgAAJCYKAQAAEhMFAIAACQmCgEAABIThQAAAImJQgAAgMREIQAAQGKiEAAAIDFRCAAAkJgoBAAASEwUAgAAJCYKAQAAEhOFAAAAiYlCAACAxEQhAABAYqIQAAAgMVEIAACQmCgEAABITBQCAAAkJgoBAAASE4UAAACJiUIAAIDEROGoDRs2lJGRkTJ//vxuy9iWLFnSvK4+du7c2T0zMf2vPdZ7AQAADMOcjsJNmzaVZcuWHQytWL7//vu7Zydu//79zbhv375mHM/u3bu7pSNFIK5Zs+bgvkRArl+/vnv2SMd6LwAAgGGYs1EYs3urVq0qO3bs6LaUZvnaa6/t1qbPunXryoEDB8oll1zSrEcQXnnllWXjxo3NeoiAvPHGG8vNN9/cbSnN12zZsqVbAwAAmHlzNgo/8pGPNONVV11V9uzZ0wTXgw8+WBYvXtxsH6aIv5j5i/eOGIz9Wb16dfPc7bffXp5++ulmGQAAYLaZk1G4d+/eg4dfvvvd7y4LFixolq+++uqya9euZnlYIvgeeuihZvm2224rixYtavbn+uuvb7aF7du3d0tT7JmPl7J5ZPY9yoF2/wAAgFlvTkZhjcBwxx13lK1bt3ZrR4poW7t2bXNhl3qBl1iPsJwK3/nOd7qlUs4555xuqZQVK1Z0S6U899xz3RIAAMDsMmcPH73pppuaMWYML7/88jEvMhNBuHTp0nLPPfccnFmMMdZXrlw5JWG4bdu2bgkAAGDumbNR+IlPfOJgGIZ6kZl+7N15551NBMZ5h3GuX5x3GOO8efOa1z/yyCPN6wAAALKas1EYIgwj8q677rom9EKc33fvvfc2y3XmMLbFRWDi8NEY66yhwzoBAIDs5nQUhriwy913310effTRg2H4hS98oRlr/I3njDPO6JaO30UXXdQtAQAAzD1zPgqruGfg8uXLu7XDxWGmcejo4OODH/xg94rjd/bZZ3dLpTz//PPdUnvvwko4AgAAs9WcjMK42micO7hp06ZuS7ut3vohZg9DvVdgXFimf4XS+LolS5YcFm7HK2K03hvxU5/6VHM+Yzw++clPNtti9jJulQEAADAbzdmZwjhPcNWqVc15gvGIK5DG4aIRYbfeemvzmnqD+9gez9fXxtfFuYhT5a677mrGuHjNwoULm8fGjRubbXFoKwAAwGw1J6PwggsuKOvWrWtuN1HFbF1ccOapp546eB/DmMV74oknmhnDer5hjLG+ZcuW5vlQzy2sr5msmAl88MEHD9ufWI5ta9as6bZMgzd/vJQrDsy+R4kb2AMAAHPByIE4uY4JiVnGEEF6ww03NMuTFYexxqxleMX+6DfH7xr8sYKhaH4RA51/uqaUPZ/pVsZx4QOlLHxftwIAr6ALzQzTjTfe2ATiZM9JrIe5AgAAzBaicBLqBWWmwvEeqgoAADCVROEk7Nq167BbWtRzEieq/7UvvPBCtxUAAGDmiEIAAIDERCEAAEBiohAAACAxUQgAAJCYKAQAAEhMFAIAACQmCgEAABIThQAAAImJQgAAgMREIQAAQGKiEAAAIDFRCAAAkJgoBAAASEwUAgAAJCYKAQAAEhOFAAAAiYlCAACAxEQhAABAYqIQAAAgMVEIAACQmCgEAABITBQCAAAkJgoBAAASE4UAAACJiUIAAIDERCEAAEBiohAAACAxUQgAAJCYKAQAAEhMFAIAACQmCgEAABIThQAAAImJQgAAgMREIQAAQGKiEAAAIDFRCAAAkJgoBAAASEwUAgAAJDZyYFS3DADMZf90TSl7PtOtjOPCB0pZ+L5uBQDMFAIAAKQmCgEAABIThQAAAImJQgAAgMREIQAAQGKiEAAAIDFRCAAAkJgoBAAASEwUAgAAJCYKAQAAEhOFAAAAiYlCAACAxEQhAABAYqIQAAAgMVEIAACQmCgEAABITBQCAAAkJgoBAAASE4UAAACJiUIAAIDERCEAAEBiohAAACAxUQgAAJCYKAQAAEhMFAIAACQmCgEAABIThQAAAImJQgAAgMREIQAAQGKiEAAAIDFRCAAAkJgoBAAASEwUAgAAJCYKAQAAEhOFAAAAiYlCAACAxEQhAABAYqIQAAAgMVEIAACQmCgEAABITBQCAAAkJgoBAAASE4UAAACJiUIAAIDERCEAAEBiohAAACAxUQgAAJCYKAQAAEhMFAIAACQmCgEAABIThQAAAImJQgAAgMREIQAAQGKiEAAAIDFRCAAAkJgoBAAASEwUAgAAJCYKAQAAEhOFAAAAiYlCAACAxEQhAABAYqIQAAAgMVEIAACQmCgEAABITBQCAAAkJgoBAAASE4UAAACJiUIAAIDERCEAAEBiohAAACAxUQgAAJCYKAQAAEhMFAIAACQmCgEAABIThQAAAImJQgAAgMREIQAAQGKiEAAAIDFRCAAAkJgoBAAASEwUAgAAJCYKAQAAEhOFAAAAiYlCAACAxEQhAABAYqIQAAAgMVEIAACQmCgEAABITBQCAAAkJgoBAAASE4Wj5s+fX0ZGRsqGDRu6LUe6//77m9fUx5o1a7pnJmb9+vWHff3R3gsAAGBY5mwU7ty5swmzGllLlixpwmvv3r3dKyZu3759zbh///5mHMtzzz3XLY3t6aefLmvXrj24P1u3bu2eGdvR3gsAAGBYRg6M6pbnjAjCSy+9tFs73JYtW8qKFSu6tYmJiAvr1q0rN9xwQ7M8KILzxhtvbJYHf2Q333xzuf3227u11nj7sXLlyvLQQw8d9b0m7OcvdgsAMOrr/1Mpez7TrYzjwgdKWfi+bgUA5mgUxgzhxo0by7x588qOHTvKokWLmlCMaPvoRz869CiMr7/uuuvKu971rnLttdc224YShc98vJRnb+lWAGACRCEAA+bk4aO7d+9uxuXLlzdBGC655JLy2c9+dtJBOBUiEu++++5yzjnndFsAAADmhjkZhQsWLGjGmHE71gVb4gIxy5YtO3iuXyxv2rSpexYAACC3ORmFH/rQh7qlUn7v935v3IvMxLl+cThnHGJaxfKqVauaWAQAAMhuTkbh1VdfXe67777mnMIQh5PG+X6XXXZZc25hiKuB1ou/xGvjEM943HTTTc22OPcQAAAguzl7S4q42MxTTz3VXLBl8eLFzbYah+GRRx5pxhCzhfXw0RqK9bxEAACAzOZsFIY4tzCu4Pn444+XpUuXNtviPMNwrPsA1llGAACAzOZ0FFYRh7/927/drR1pz549Bw8frY8XXnihexYAACCvOXmfwriwzG233Vbe+973NkEY5w+uXr26uYhMHEq6a9euw25wH/cQvPXWWw++9t57720OH60Xm4nDSsPx3qew2rp1a7n88sub5aHcp/D5f+8+hQBMzlv/g/sUAnCYORmFNeLG0o+xepP7sURETlUUHm1/+u8TpjQKAQAATtCcPHw0riZ61VVXdWvt+YERX0888cRhs3MRYxFf9XzDEMux7S/+4i+6LYfOLzzjjDOaEQAAIIs5OVM4EyZy+OhEmCkEAABmk1fEhWaGLQ4XjUNTJyOiMr6uXh0VAABgNhCFE3Tuued2S1PDoaoAAMBs4PBRAACAxMwUAgAAJCYKAQAAEhOFAAAAiYlCAACAxEQhAABAYqIQAAAgMVEIAACQmCgEAABITBQCAAAkJgoBAAASE4UAAACJiUIAAIDERCEAAEBiohAAACAxUQgAAJCYKAQAAEhMFAIAACQmCgEAABIThQAAAImJQgAAgMREIQAAQGKiEAAAIDFRCAAAkJgoBAAASEwUAgAAJCYKAQAAEhOFAAAAiYlCAACAxEQhAABAYqIQAAAgMVEIAACQmCgEAABITBQCAAAkJgoBAAASE4UAAACJiUIAAIDERCEAAEBiohAAACAxUQgAAJCYKAQAAEhMFAIAACQmCgEAABIThQAAAImJQgAAgMREIQAAQFql/P+nWp6Lvo7p2gAAAABJRU5ErkJggg==)"
      ]
    },
    {
      "cell_type": "code",
      "execution_count": null,
      "metadata": {
        "colab": {
          "base_uri": "https://localhost:8080/"
        },
        "id": "Dj8draxJjmNJ",
        "outputId": "4d500cb2-2f1f-457f-a4d3-02a9c5866d95"
      },
      "outputs": [
        {
          "output_type": "stream",
          "name": "stdout",
          "text": [
            "Sel: [0, 0] -> Salida: 0000000000000000\n",
            "Sel: [0, 1] -> Salida: 0000000000000000\n",
            "Sel: [1, 0] -> Salida: 0000000000000000\n",
            "Sel: [1, 1] -> Salida: 0000000000000000\n",
            "Sel: [0, 0] -> Salida: 0001001000110100\n",
            "Sel: [0, 1] -> Salida: 1010101010101010\n",
            "Sel: [1, 0] -> Salida: 1001100001110110\n",
            "Sel: [1, 1] -> Salida: 0101010101010101\n"
          ]
        }
      ],
      "source": [
        "# Casos de prueba para MUX4Way16\n",
        "casos = [\n",
        "    ([0]*16, [0]*16, [0]*16, [0]*16, [0, 0]),  # Debe retornar 0000000000000000\n",
        "    ([0]*16, [0]*16, [0]*16, [0]*16, [0, 1]),  # Debe retornar 0000000000000000\n",
        "    ([0]*16, [0]*16, [0]*16, [0]*16, [1, 0]),  # Debe retornar 0000000000000000\n",
        "    ([0]*16, [0]*16, [0]*16, [0]*16, [1, 1]),  # Debe retornar 0000000000000000\n",
        "    ([0,0,0,1,0,0,1,0,0,0,1,1,0,1,0,0],  # 0001001000110100\n",
        "     [1,0,0,1,1,0,0,0,0,1,1,1,0,1,1,0],  # 1001100001110110\n",
        "     [1,0,1,0,1,0,1,0,1,0,1,0,1,0,1,0],  # 1010101010101010\n",
        "     [0,1,0,1,0,1,0,1,0,1,0,1,0,1,0,1],  # 0101010101010101\n",
        "     [0, 0]),  # Debe retornar 0001001000110100\n",
        "    ([0,0,0,1,0,0,1,0,0,0,1,1,0,1,0,0],\n",
        "     [1,0,0,1,1,0,0,0,0,1,1,1,0,1,1,0],\n",
        "     [1,0,1,0,1,0,1,0,1,0,1,0,1,0,1,0],\n",
        "     [0,1,0,1,0,1,0,1,0,1,0,1,0,1,0,1],\n",
        "     [0, 1]),  # Debe retornar 1001100001110110\n",
        "    ([0,0,0,1,0,0,1,0,0,0,1,1,0,1,0,0],\n",
        "     [1,0,0,1,1,0,0,0,0,1,1,1,0,1,1,0],\n",
        "     [1,0,1,0,1,0,1,0,1,0,1,0,1,0,1,0],\n",
        "     [0,1,0,1,0,1,0,1,0,1,0,1,0,1,0,1],\n",
        "     [1, 0]),  # Debe retornar 1010101010101010\n",
        "    ([0,0,0,1,0,0,1,0,0,0,1,1,0,1,0,0],\n",
        "     [1,0,0,1,1,0,0,0,0,1,1,1,0,1,1,0],\n",
        "     [1,0,1,0,1,0,1,0,1,0,1,0,1,0,1,0],\n",
        "     [0,1,0,1,0,1,0,1,0,1,0,1,0,1,0,1],\n",
        "     [1, 1])   # Debe retornar 0101010101010101\n",
        "]\n",
        "\n",
        "# Ejecutar pruebas e imprimir resultados\n",
        "for a, b, c, d, sel in casos:\n",
        "    salida = MUX4Way16(a, b, c, d, sel)\n",
        "    print(f\"Sel: {sel} -> Salida: {''.join(map(str, salida))}\")"
      ]
    },
    {
      "cell_type": "markdown",
      "metadata": {
        "id": "iPD8QMLFkV2F"
      },
      "source": [
        "# MUX8WAY16"
      ]
    },
    {
      "cell_type": "code",
      "execution_count": null,
      "metadata": {
        "id": "v8Tb3QdbkZaj"
      },
      "outputs": [],
      "source": [
        "def MUX8Way16(a, b, c, d, e, f, g, h, sel):\n",
        "    return MUX16(MUX4Way16(a, b, c, d, sel[:2]), MUX4Way16(e, f, g, h, sel[:2]), sel[2])"
      ]
    },
    {
      "cell_type": "markdown",
      "metadata": {
        "id": "DeglPsmIGqjx"
      },
      "source": [
        "![2.png](data:image/png;base64,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)"
      ]
    },
    {
      "cell_type": "code",
      "execution_count": null,
      "metadata": {
        "colab": {
          "base_uri": "https://localhost:8080/"
        },
        "id": "uFglo-QEl8wf",
        "outputId": "db6c12e3-a35b-4717-c5a7-d7fef52e48d6"
      },
      "outputs": [
        {
          "output_type": "stream",
          "name": "stdout",
          "text": [
            "Sel: 000 -> Salida: 0000000000000000\n",
            "Sel: 011 -> Salida: 0111100010011010\n"
          ]
        }
      ],
      "source": [
        "\n",
        "# Casos de prueba para la Mux8way16\n",
        "casos = [\n",
        "    ([0]*16, [0]*16, [0]*16, [0]*16, [0]*16, [0]*16, [0]*16, [0]*16, [0, 0, 0]),  # 000 -> Debe retornar 0000000000000000\n",
        "    ([0,0,0,1,0,0,1,0,0,0,1,1,0,1,0,0],  # 0001001000110100\n",
        "     [0,1,0,0,0,1,0,1,1,0,1,1,1,0,0,1],  # 0010001101000101\n",
        "     [0,0,1,1,0,1,0,0,1,0,1,0,1,1,0,0],  # 0011010001010110\n",
        "     [0,1,0,0,0,1,1,0,1,0,1,1,0,0,1,1],  # 0100010101100111\n",
        "     [0,1,0,1,0,1,1,0,0,1,1,1,1,0,0,0],  # 0101011001111000\n",
        "     [0,1,1,0,0,1,1,1,1,0,0,1,0,0,1,1],  # 0110011110001001\n",
        "     [0,1,1,1,1,0,0,0,1,0,0,1,1,0,1,0],  # 0111100010011010\n",
        "     [1,0,0,0,1,0,0,1,1,0,1,0,1,0,1,1],  # 1000100110101011\n",
        "     [0, 1, 1])  #  Debe retornar 0111100010011010\n",
        "]\n",
        "\n",
        "# Ejecutar pruebas\n",
        "for a, b, c, d, e, f, g, h, sel in casos:\n",
        "    salida = MUX8Way16(a, b, c, d, e, f, g, h, sel)\n",
        "    print(f\"Sel: {''.join(map(str, sel))} -> Salida: {''.join(map(str, salida))}\")\n"
      ]
    },
    {
      "cell_type": "markdown",
      "metadata": {
        "id": "QW4SjUN0p5KL"
      },
      "source": [
        "# DMUX4WAY"
      ]
    },
    {
      "cell_type": "code",
      "execution_count": null,
      "metadata": {
        "id": "RwUHrCryp_bK"
      },
      "outputs": [],
      "source": [
        "def DMUX4Way(inp, sel):\n",
        "    a, b = DMUX(inp, sel[1])\n",
        "    a0, a1 = DMUX(a, sel[0])\n",
        "    b0, b1 = DMUX(b, sel[0])\n",
        "    return a0, a1, b0, b1"
      ]
    },
    {
      "cell_type": "markdown",
      "metadata": {
        "id": "Z14ZgFDYq8eN"
      },
      "source": [
        "![dmux4way.jpg](data:image/jpeg;base64,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)"
      ]
    },
    {
      "cell_type": "code",
      "execution_count": null,
      "metadata": {
        "colab": {
          "base_uri": "https://localhost:8080/"
        },
        "id": "HKvDQWpvrfQE",
        "outputId": "b4337d79-84cf-4383-f80d-c61ce27453d4"
      },
      "outputs": [
        {
          "output_type": "stream",
          "name": "stdout",
          "text": [
            "In: 0 | Sel: 00 -> a: 0, b: 0, c: 0, d: 0\n",
            "In: 0 | Sel: 01 -> a: 0, b: 0, c: 0, d: 0\n",
            "In: 0 | Sel: 10 -> a: 0, b: 0, c: 0, d: 0\n",
            "In: 0 | Sel: 11 -> a: 0, b: 0, c: 0, d: 0\n",
            "In: 1 | Sel: 00 -> a: 1, b: 0, c: 0, d: 0\n",
            "In: 1 | Sel: 01 -> a: 0, b: 0, c: 1, d: 0\n",
            "In: 1 | Sel: 10 -> a: 0, b: 1, c: 0, d: 0\n",
            "In: 1 | Sel: 11 -> a: 0, b: 0, c: 0, d: 1\n"
          ]
        }
      ],
      "source": [
        "\n",
        "# Casos de prueba\n",
        "casos = [\n",
        "    (0, [0, 0]),  # Entrada 0, selector [00] -> (0, 0, 0, 0)\n",
        "    (0, [0, 1]),  # Entrada 0, selector [01] -> (0, 0, 0, 0)\n",
        "    (0, [1, 0]),  # Entrada 0, selector [10] -> (0, 0, 0, 0)\n",
        "    (0, [1, 1]),  # Entrada 0, selector [11] -> (0, 0, 0, 0)\n",
        "    (1, [0, 0]),  # Entrada 1, selector [00] -> (1, 0, 0, 0)\n",
        "    (1, [0, 1]),  # Entrada 1, selector [01] -> (0, 1, 0, 0)\n",
        "    (1, [1, 0]),  # Entrada 1, selector [10] -> (0, 0, 1, 0)\n",
        "    (1, [1, 1]),  # Entrada 1, selector [11] -> (0, 0, 0, 1)\n",
        "]\n",
        "\n",
        "# Ejecutar pruebas\n",
        "for inp, sel in casos:\n",
        "    salida = DMUX4Way(inp, sel)\n",
        "    print(f\"In: {inp} | Sel: {''.join(map(str, sel))} -> a: {salida[0]}, b: {salida[1]}, c: {salida[2]}, d: {salida[3]}\")\n"
      ]
    },
    {
      "cell_type": "markdown",
      "metadata": {
        "id": "Dn9czmLhr3CJ"
      },
      "source": [
        "# DMUX8WAY"
      ]
    },
    {
      "cell_type": "code",
      "execution_count": null,
      "metadata": {
        "id": "yIpxHu46sD1n"
      },
      "outputs": [],
      "source": [
        "def DMUX8Way(inp, sel):\n",
        "    a, b = DMUX(inp, sel[2])\n",
        "    return (*DMUX4Way(a, sel[:2]), *DMUX4Way(b, sel[:2]))"
      ]
    },
    {
      "cell_type": "markdown",
      "metadata": {
        "id": "NzdiNhs0sJ1l"
      },
      "source": [
        "![Dmux8way.jpg](data:image/jpeg;base64,/9j/4AAQSkZJRgABAQAAAQABAAD/4gHYSUNDX1BST0ZJTEUAAQEAAAHIAAAAAAQwAABtbnRyUkdCIFhZWiAH4AABAAEAAAAAAABhY3NwAAAAAAAAAAAAAAAAAAAAAAAAAAAAAAAAAAAAAQAA9tYAAQAAAADTLQAAAAAAAAAAAAAAAAAAAAAAAAAAAAAAAAAAAAAAAAAAAAAAAAAAAAAAAAAAAAAAAAAAAAlkZXNjAAAA8AAAACRyWFlaAAABFAAAABRnWFlaAAABKAAAABRiWFlaAAABPAAAABR3dHB0AAABUAAAABRyVFJDAAABZAAAAChnVFJDAAABZAAAAChiVFJDAAABZAAAAChjcHJ0AAABjAAAADxtbHVjAAAAAAAAAAEAAAAMZW5VUwAAAAgAAAAcAHMAUgBHAEJYWVogAAAAAAAAb6IAADj1AAADkFhZWiAAAAAAAABimQAAt4UAABjaWFlaIAAAAAAAACSgAAAPhAAAts9YWVogAAAAAAAA9tYAAQAAAADTLXBhcmEAAAAAAAQAAAACZmYAAPKnAAANWQAAE9AAAApbAAAAAAAAAABtbHVjAAAAAAAAAAEAAAAMZW5VUwAAACAAAAAcAEcAbwBvAGcAbABlACAASQBuAGMALgAgADIAMAAxADb/2wBDAAMCAgICAgMCAgIDAwMDBAYEBAQEBAgGBgUGCQgKCgkICQkKDA8MCgsOCwkJDRENDg8QEBEQCgwSExIQEw8QEBD/2wBDAQMDAwQDBAgEBAgQCwkLEBAQEBAQEBAQEBAQEBAQEBAQEBAQEBAQEBAQEBAQEBAQEBAQEBAQEBAQEBAQEBAQEBD/wAARCAHCAQ0DASIAAhEBAxEB/8QAHQABAAMBAAMBAQAAAAAAAAAAAAYHCAUBAwQCCf/EAFcQAAAFAwECBwoJBwkECwAAAAABAgMEBQYRBxIhCBMUMTi0tRciNjdBUVZ0dpYVFhgyV2HS09QjVXFydZKUJCUzQlKBkZXRVGSTwSY0U1hiZXeho7Gy/8QAHAEBAAICAwEAAAAAAAAAAAAAAAcIAQYCBAUD/8QARhEAAgECAQcGDAIIBQUAAAAAAAECAxEEBQYHEiE1sjFBVHFycxUWIjZRU2GRkrHR0hOTFBczNIGhosIlMlJj8CMkweHx/9oADAMBAAIRAxEAPwD+noAAAAAAAAAAAAAAAAAAAAAAAAAAAAAAAABmREZmeCLnMcWgXvZd1yJUS17votYfgnsymoFQakLYPJlhZIUZpPJHz45h7LvpzVYtStUh+HLltTqfIjLYiOIbfdSttSTS2pZklKzI8EajIiPGTGV7HsPVxyDXLOotPqD9OdsaZRIVSuK3WqVU6S9sbMaCiU2f8qb2jM1LSWwWyR7WT35SuYbsaUqGp9kxrXuO7KZcECtxbViSZdRapUtmS63xDanFtmSVYSvCDIkqMt/PgQ+PwlLMfuKHQlUKvtMv2u1d8qpLYa5JT4C21uEb5k4ayV3hpwlKi2jIiMxQOnelN0N2peb5WHd9GqsbTmfba4rtBgwYs+SphWyhvk6zclr2y7140mato8mRmRH0aRZVbr903Bp6mOqJWZ2hlNpaWJH5NSJJ7aNhefmmStx55t45WRx1mXJROE9a9eplWmQ7GvNubTaW1XY9LfpzbcupU1xewmVGSbmytvyntKSZF5BYthXlTdQ7Mo18UePJYg1uI3NYbkpSl1CFlkiWSTURH+gzGerFpN6V24ZN73DYdYtSFa2mZ2k8irIbbVKnJVtuKYJKlbbJEgsObtraLBc4tTgwdHrT79gxf/yMNIym2yaVS+LKolYi29WrvolPqs7HJYMqoNNSH8ngthtSiUrJ7txGPdNu21KbW4ltVG5qTFq88tqJT35raJMgvO20atpZbj5iPmGadarNvuPqJclb07t2uT5tdXTHHqPVrdjVOhVtxgkoQrlG0RwibJOT4w0mZllJbyMozqRpFe1Y1eupquWhc8tF11GmzaZWKHR4MxMRDLbWSOZIWhyIba21biMiWX6d6yMazL5vDhH2lZx3M3Jt24J79r1in0R9iEwytcmTMbS4zxJKdTtFhREe1snnmI+cdWqa6WRR7ztPTucqUm5bsSS26YlKDegJ4k3cyiJX5PmNJEW0ZmR4yRGZUBq7Qa1Sa3fNVqdLlRoVV1JtB2DIeaNLclCGmULUhR7lESiMjMuYyFu6qWS9L1b0uue3rYNw26/IlVmfFi5MkFAW02t9xJcxd6hJqPzEQWQuyVWPq7Sr4vW67DZtyuUmpWg4ymX8IstIQ+h018W4yaHFGaFJRtEaiSeFJ3eadij9NFJVwptZDSojxAt0tx+XkzgvAYZyTuAABgyAAAAAAAAAAAAAAAAAAAAAAAAAAAAAAAAAAAAAADMklkzIi+sAAEGlW/pPM1fh1aVToDmoMOkqkxnjJfKG4G2po1F/V2dp1SfP3xicinD6YCP/AE4X2kkZRhlnXTatvXtQZVsXXSmalSpxJTIivZ2HCSolFnBkfOkj/uHuoFAo9rUWFbtvwG4NNpzKY8WO3nZabTuJJZ34IfeAwZAARkfMZGAAhurdP0yqNmPM6uRoT9uJkMG4mYSzb441khr5m/JrURF9ZiVU+nw6TAjUunR0sRIbKI7DSeZttCSSlJfURERCoOF54j5/7Wo/aDAucZ5jHORq1tNbFsmrVmu2rbUSmz7ge5RU32dralObSlbSsme/aWs93nMSUAyWcZLPmGDIAAAAAAAAAAAAAAAAAAAAAAAAAAAAAAAAAAAAAZA4StBply8IqPT6008/GYsqK820mQ42klnOkkau8UWTxuGvxlDXfpLI9hYnaEoadpAxNbB5tYuvh5uE1FWcW015UeRraj3M2qVOvlahTqxUotu6auuR8zK7VpRYai2VUZ0yPyHOkfeDz3KrF/M738fI+8EtAVJ8asu9NrfmT+4mzwNk3o8Pgj9CJdyqxfzO9/HyPvB+O5Hp9x/KfgFfHbOxxnLZG1s5zjO3nGfIJgAeNWXem1vzJ/cPA2Tejw+CP0Il3KrF/M738fI+8DuVWL+Z3v4+R94JaAeNWXem1vzJ/cZ8DZN6PD4I/QiJaUWGncmjOl5d06R94PPcqsX8zvfx8j7wS0A8asu9NrfmT+4eBsm9Hh8EfoQ9/SPT2S2bUmgqdQZkZpXNkKLJby3GsfvuVWL+Z3v4+R94JaAeNWXem1vzJ/cY8DZN6PD4I/QiXcqsX8zvfx8j7wO5RYedr4GdyW7PL5H3gloB41Zd6bW/Mn9xnwNk3o8Pgj9Ctb2sO2LeoB1ijwpEaZHmQjbdKa+ZpzKaSe41mXMZl/eP6HjB+p+fibIx/tkHrbI3gLH6HsoYvKWRK1XGVZVJKq0nKTk7akNl23s2vYRVnzhaGEyhCGHgorUTskkr60vQAABLBpYAAAAAAAAAAAAAAAAAAAAAAAAAAAAABlDXfpLI9hYnaEoavGUNd+ksj2FidoShpGkjzVxnZXFE2DNXfOH638mckAAUxJ7AAAAAAAAAAAAAAAAAACK6n+Bz/rkDrbI3eMIan+Bz/rkDrbI3eLQ6Edw1++lwUyH9IO8qfdrikAHFq972Zb9Uh0OvXdRabUqgZFEhzJ7TL8gzPBcW2pRKXv3biPeO0JkNEAAAAAAAAAAAAAAAAAAAAAAAAAAAAAAMoa79JZHsLE7QlDV4yhrv0lkewsTtCUNI0keauM7K4omwZq75w/W/kzkgACmJPYAAAAAAAAAAAAAAAAAARDVmMzNsSbDkJNTT8iE0siMyM0qlNEe8t5bjGi/kd6CejNT/AM+nfejPOp/gc/65A62yN3i0WhF2yDX76XBTIe0hJPKVO/q1xSMXa7aZ321TL208siway1RmqdSUUM6RTUS11ZplfGOHLmu7Tu0yraJDSTJR7sbRGY2dHUlcdpSScJJoSZcYRkrGPKR7yPz53j9gJkbuaIlYAADBkAAAAAAAAAAAAAAAAAAAAAAAAAAMoa79JZHsLE7QlDV4yhrv0lkewsTtCUNI0keauM7K4omwZq75w/W/kzkgACmJPYAAAAAAAAAAAAAAAAAARTU/dZsg/wDfIHW2RvAYQ1P8Dn/XIHW2Ru8Wh0I7hr99LgpkP6Qd5U+7XFIAACZDRAAAAAAAAAAAAAAAAAAAAAAAAAAAAAADKGu/SWR7CxO0JQ1eMoa79JZHsLE7QlDSNJHmrjOyuKJsGau+cP1v5M5IAApiT2B4WZpQpReQjMeR4UW0k0+csAuXaYZWFOve+o1rU6/Ky5RpNJkra5VGYjONPstOOcXtpWa1Eo0mZGZGRZLI6NPv+rd0G4KFV2IrVEpyMRpKSMl8allDq0KMzwfeKWosY3IMeil6eXYdvwbNrlcpSqJDcbUtMWK4UiQhtzbJtSlL2UkZkWTJOcFgsZHvr+mDtdKsEqqkx8J1ePUEqbIyUhlLKWXWzP8A8bfGp82F7xJjq5tVMRWp4hw1ZfiKMoRdoxdSn+G7WXlxjrt+mNk22aioZXjSpypa11qtqTW1qMtZXu/Jb1be3ath8dl6pVOVTVv3tTSiy37jboUZmK38xTrSHG+M2leTaPJl9W4Sqde9JgRqvMejyzYoUtEWatDZHxe0htZuYzk0JS6k1HzkRK3HgcSp6by5aag/DqUdqUu4mLhgm40pbbbjTTaCQsiMjMj2Fcx8yi8w9jdjXCqlXBT5dwRlvXJPS/KkMx1NcXHUy22422k1KwrZbNKTMzwRkZ5Mh08bDNnGVv0mlJU03G8FrJK7p61vJexRc+e7ktiZ98PLK9Cn+DNOTV/KdtuyVr7eVvV9ludEkt64oFzw3KjS0uqhpeWy0+oiJEgkng3GzIzyjOSI92cbt2DHUHBs23ZVqUk6AqaUqFEdUmnmoj4xuMe9LSzP5xp3kR/2SLduHeGmZShhqeLqRwbvSv5L53HmvdLbbl2ctz38JKrKhF11adtvXz29no9gAAHSOyRXU/wOf9cgdbZG7xgvVnlPxFm8i4vlHKIXFcbnY2+VNbO1jfjOM4Gkdrhg/wBnR/8Awqf+otDoRV8g1++lwUyHtILtlKn3a4pFwJfYW6uOh5tTrZEa0EojUkj5sl5M4H7GN6rK1ah6r6rVRGp1As+4KPaVKq1RRDiIkMTVsMvGlLfKSNSWu+wrdtZWnf59SaaXHPvHTq17tqkdtiZWqPDqEhpsjJKHHWUrUREe8iyoxMrVjRE7kkAAGDIAAAAAAAAAAAAAAAAAAAAAAAAAAZQ136SyPYWJ2hKGrxlDXfpLI9hYnaEoaRpI81cZ2VxRNgzV3zh+t/JnJAAFMSewAAAA8badrY2i2sZxnfjzjyK/pVMfp+sk52RVZc1cugk9h407LJcpMiQ2kiIkpIiLzmZ5Mz3j0sn4COOhWlKeq6cHJKzetZpW9C5eV/wT5upisTLDyppRvrSte/J7faWAPCFocSS21kpJ8xkeSMQu9qlPpFKYpBP1eSmqyXW5E6HDU87Ej71GSSaSeFYMm0mZZLO0eTTv9WiMlh/TSkNR0PpTGS4x+WaUgzw4reW0RZLBlvLdnPmHcqZCnTyS8q691rqKSTs01Pyru1tsLWavzuyav145SjPGrBatnquT2861dlufZK9+Tm27bToAAeCemAAABFdT/A5/1yB1tkbvGENT/A5/1yB1tkbvFodCO4a/fS4KZD+kHeVPu1xSINdWh2kV8Vh24Lv0+o9XqLymVOSZbHGLVxRGSCyf9UiMyNPMe7JHghN2mmmGkMMNIbbbSSEIQkiSlJFgiIi5iIfoBMholgAAAAAAAAAAAAAAAAAAAAAAAAAAAAADKGu/SWR7CxO0JQ1eMoa79JZHsLE7QlDSNJHmrjOyuKJsGau+cP1v5M5IAApiT2AAAAHz/B8H4Q+FeSt8sNnk/HY7/itra2c+bO8fQA5RnKF9V2vsfV6Di4qXKj0Q4MOntKYhR0MtrcW6pKCwRrWo1KV+kzMzP9I8QKfCpcRuBTozceO0RkhtssJTk8ngv0mY+gBylWqTvrSbu7vbyvbtfpe17fazCpwjay5Ni6v+IAAD5nMAAACKan77NkF/vkHrbI3gMIan+Bz/AK5A62yN3i0OhHcNfvpcFMh/SDvKn3a4pAAATIaIAAAAAAAAAAAAAAAAAAAAAAAAAAAAAFNOcLvQlD78dNyVJ447zjC1M0Oa4jbQo0qIlJaMj3ke8jFHXvqRaep+v7lds+XJkQ49nxojipEJ6MonSmvqMiS6lKjLC07yLH+Bi8uCV4mY37ZrPaD4rTXfpLI9hYnaEoaTpJss1sZ2VxRPezUu8sYd+18LOSAAKYE+gAAAAAAAAAAAAAAAAABENWZLMOxJsyQo0tMSITizIjMySmU0Z7i3nuIaO+V5oZ+fax7vT/uRnbU/wOf9cgdbZG7xaLQjuGv30uCmQ9pCv4Sp29WuKRS1R4UtrKmOM2ZZV23hHhQ40+qSKRTy/kDT5mTRLbdUhxThkRq2EpMyLf58XMy6l9lD6ErSlxJLIloNCiIyzvSe8j+o95Cobs0bv879r97aX6mx7YVd8aGxWUSKSmYtK4yTQ29HUa0khXFnsmSiUW7P6LdjtuMx2mXZC31oQlKnVkklOGRb1GSSIiM+fcRF5iITI7cxoivznsAAGDIAAAH8/NPoVUuS0odbq97Xk7LkuSDcUm5ZyCPD60lhKXSItxEW4SH4pJ4zjvjbeXGbOzt/GefnHmzxvMOXpD4vaZ+vK6w4JiKcZx52Zew+WcXSpYyrGMatRJKckklNpJK/IkTrknImTauAoTnh4NuEW24ra9Vew4nxWV6Y3p701D74Pisr0xvT3pqH3w7YDxfHLOHp1X8yX1PQ8A5L6ND4V9DhItImk7Ld23kgsmeE3RPIsmeTP+l84/XxWV6Y3p701D74dsA8cs4enVfzJfUeAcl9Gh8K+hwnLSS8g23btvJaTxlKrnnmR/8Ayj9fFZXpjenvTUPvh2wDxyzh6dV/Ml9THgHJfRofCvoXRwTZ9RqWg1AlVWpzKhJ5XVmlSJkhb7y0oqUlCCUtZmpWEpSRZPmIhboprgg57gFByRf9frON/wD5rKFyi7WGk5UISlytL5Ff6qSqSS9LAAA+58ym+CV4mY37ZrPaD4rTXfpLI9hYnaEoWVwSM9xiNksH8M1jr74rXXfpLI9hYnaEoaTpJ81sb2VxRPfzT3vh+v8AtZyQABTAnwAAAAAAAAAAAAAAAAAAIrqf4HP+uQOtsjd4wfqhn4myMc/K4PW2hvAWh0I7hr99LgpkP6Qd5U+7XFIAACZDRAA4bV30xVZq9HlIXDKjFGN6VIdZSw4bxZSSTJZqI84Lv0pyZljaHViVCBUON5BOjyeIcNl3iXUr4twudKsHuMvMe8Ae8AAAYJ0h8XtM/XldYcExEO0h8XtM/XldYcEslGZRnjL/ALNX/wBCjOc8dbL+MX+9U42WIyO7ZMw7/wBuHCj2gKYpdGj27p3bF8UZ+e3WHTppvny55xMwn3G0ONrbWo0mRkszLBFgyIywPKK/ItC9bxueXUHVRJExymMxnFmaOVIiNPMEkuYjUZuJ+s1JHtQzJliZ1qeErazhrpJxs5ThOEXFJSlsamnF322asmefLOGNGMJV6dlLVbs7pRlGTT5F/ps1zct2XMApeyqhXrKgJovwguoLevv4IkPyTNxRsLY2jMjzuPKU/VvPdvEqqF61uPRLvrLDkL/oxVjaShwtlL0ZtllxbZqzuWfGLIj8+yWB1cbmdisPinQoVIzi2tWW1XvKME7bbXcly820+2Hy9Rq0fxKkXF7brltZOT69iZPgEesOuTrntmNcc1cfFSNUhhpneTLJn3jajzvWRF3x7u+yWNwkI1nGYWpgcRPDVf8ANBuLt6VsfuZ69CtHE0o1ockkmup8hcPBB8QFA9frXassXIKb4IPiAoHr9a7Vli5BfTCfu9Psr5Fbq37SXWwAAOwfMpvgleJmN+2az2g+K0136SyPYWJ2hKFl8ErxMxv2zWe0HxWmu/SWR7CxO0JQ0nST5rY3sriie/mnvfD9f9rOSAAKYE+AAAAAAAAAAAAAAAAAABFdT/A5/wBcgdbZG7xhDU/wOf8AXIHW2Ru8Wh0I7hr99LgpkP6Qd5U+7XFIAOLdd30KzKNOrValpQiDCkTzYQtPHvNMNm45xaDMtoySk/8AngfRbNfg3XblLuimJdTDq8JmdHJ1JJWTbqCWklERmRHhRZLJiZDRDKetlj3dWJ3CFTAtaty2621aKaepiE6vlnFONcdxJpT+U2CI9rZzs4POBZGj2nrGn2veo8W27ScodsS6TRFREsRFMwnpCUOk4bZ4JCllktrG/KsnvMXsAzfZY46u25y7ot6JdlAm27PlTo0ec3xbjsKSqO+gskeUOJ75J7uchWHyWbF9MdRPe+b9sXGAXsZaTMDaNtJZ04pDKTUZNnJSRqPJmRSHOc/KJmtKVoUhRZJRGRl9Qh+kPi9pn68rrDgmIovnS7ZexrXrqnHIsTkbduH7EOFEXpOmln0V+K/Cp76uQmSoqH5rz7bCiIyJSELWaUmRGeDIsl5B90mzLamcdyqmJc4+otVZe0tW+U2SCQ5z7sE2kscx4PJbzHaHIh3VRKhcUy1oUsnp9PYQ/JSjBpaJRmRJM/7W7OPMZD4xyhlbFzniI1aknFXlLWk2o3XK77FrNfx9p9HhcDQjGk4RSbslZbXbmXpt/I9U2ybaqEWXDlU41NzZpVB00vLSrlJEkicSojI0GRJL5pl/7j1xbCtSHEVAjUvYjrnoqbjXHLNLklJJIlryfffMSZkeSMyyZGe8e+u3XSqDHjvOlImOS3VMRo8Jo33XlpIzUSUp/sklRmZ4IsD6aDXadclLaq9KcWuO6a04cbNC0LSo0qSpKt6VEojIyPzD6PE5ao4X8dzqKk3y3lbWXJz8vk2XZaXIcVSyfUrfhqMHO3oV7f8AH/P2n7pdGp1FTIbpkfiESpC5TiCUZp4xZ5UZEZ4Tk9+CwWTM/KPtAB41WrUrzdSrJuT5W9rO9CEacdWCsvYdbg46BWpeukdMuep3NecWTNn1bbZp9xyosdOxUZKC2Gm1ElOSSRngt5mZ+UWV8laxds1/HPUXeWMfG6b9vI88EHxAUD1+tdqyxcgv3hG/0en2V8itVaK/El1spz5LNi+mOonvfN+2HyWbF9MdRPe+b9sXGA7F2fPVRGtOtPbd0utSNZtrJlFT4rjzqDlSFPOqW64pxZqWreffKMZ1136SyPYWJ2hKGrxlDXfpLI9hYnaEoaPpI81sZ2VxxNhzV3xh+t/JnJAAFMSewAAAAAAAAAAAAAAAAAAiGrMdEuxJsVxa0pekQm1KQrZURHKaLJGXMf1jSPyWbF9MdRPe+b9sZz1P8Dn/AFyB1tkbvFodCLtkGv30uCmQ9pCSeUqd/VrikYv1R0rj2/ceolIr+mF230VUtaLCsaplEdqq4K22HCcQqQZmbCyfVxmTwakmfPnCtRaQQplN0nsun1CK9FlRbfp7L7DzZocacTHQSkqSe9KiMjIyPeRiXAJlbuaGo2YAAGDkAAABgnSHxe0z9eV1hwTEQ7SHxe0z9eV1hwTEUXzp37je+qccixORt24fsQ4UBDqbQypups6ZCpJRoLtDjo41pnYbW/yl9SyyRYNeFEZ+XeRiYgOhg8fUwcKtOHJUjqv3p361b+Z2a+GjiJQlLlg7r3Nf+SF3PcL9EokX4s2zUCdlynWUqYpS3ORltK4x9TSSyeTyaebaNRHzZHVsaNAiW3Gj06PUWmyU4pZ1BhTUh11SzU44tKiI8qUalc2N+7cO+A7FfKcKuD/RYQavLWb1r63La+zmTdtttrdrtnyp4SUK/wCNKV9lkrWtyXtt57bf4K+wAADyTvFwcEEyPQCgkRkeJ9ZI/q/nWULlFN8EHxAUD1+tdqyxcgv7hP3en2V8itFb9pLrYAAHYPmBlDXfpLI9hYnaEoavGUNd+ksj2FidoShpGkjzVxnZXFE2DNXfOH638mckAAUxJ7AAAAAAAAAAAAAAAAAACKaoGRWbIMzwRS4PW2hvAYQ1P8Dn/XIHW2Ru8Wh0I7hr99LgpkP6Qd5U+7XFIAACZDRAAAAAAAAwTpD4vaZ+vK6w4JiIdpD4vaZ+vK6w4JiKL5079xvfVOORYnI27cP2IcKAAA8I9IAAAAAAALh4IPiAoHr9a7Vli5Bkzg51nhGRdJKbHsSybKn0JE+rckkVGrvsSF5qMk17aENqIsL2yLB7yIjFk/GHhe8YZdzfTjZxuP4ek8//AAv+Qv8AYRf9vT7K+RWes/8AqS62XUApf4w8Lr6N9OP8/lfch8YeF19G+nH+fyvuR2LHzuXQMecJa3o9w8JGO1IqNUh8TY8VRKgTnYqjzPlblKbMjMvqMaE0K1ErOqWnMS77gpUSnT3ZcyK9HiOKW0k2JC2spNW887GRR+u/SWR7CxO0JQ03SDiKuEzaxdajJxkoqzXKvKie7mzThXytQhUV029n8GV33NKd6U3h7xS/th3NKd6U3h7xS/tiXAKjeMuV+kT95N3gnA+qj7iI9zSnelN4e8Uv7YdzSnelN4e8Uv7YlwB4y5X6RP3jwTgfVR9xEe5pTvSm8PeKX9sO5pTvSm8PeKX9sS4A8Zcr9In7x4JwPqo+4iPc0p3pTeHvFL+2Hc0p3pTeHvFL+2JcAeMuV+kT948E4H1UfcRHuaU70pvD3il/bDuaU70pvD3il/bEuAPGXK/SJ+8eCcD6qPuIj3NKd6U3h7xS/th3NKd6U3h7xS/tiXAHjLlfpE/ePBOB9VH3FX39YcCm20uaiv3LIU3MhYblVuS+0rMpou+QtZpPnyWS58GP6Klu3DB+p+fibIx/tkHrbI3gLI6HcdicfkStUxU3Nqq1d7dmpAinPrDUsLlCEKMVFai5O1IAACWTSwAAAAAAAwTpD4vaZ+vK6w4JiIdpD4vaZ+vK6w4JiKL5079xvfVOORYnI27cP2IcKAAA8I9IAAAAAAALh4IPiAoHr9a7Vli5BTfBB8QFA9frXassXIL+4T93p9lfIrRW/aS62AAB2D5lN8ErxMxv2zWe0HxWmu/SWR7CxO0JQsvgleJmN+2az2g+K0136SyPYWJ2hKGk6SfNbG9lcUT380974fr/ALWckAAUwJ8AAAAAAAAAAAAAAAAAACK6n+Bz/rkDrbI3eMIan+Bz/rkDrbI3eLQ6Edw1++lwUyH9IO8qfdrikAHrclRmXW2XpDSHHjw2hSyJSz+ovKPYJkNEAAAAAAADBOkPi9pn68rrDgmI9Vq6CcIS06ExQGbUteWiMt40vHXloNZLdUsu94g8fOxzjrdybhEeg9re8S/w4qnl/RpnPjcrYrE0MNeE6k5J69NXTk2ntlfkfOTLkzO3JGHwVGjUq2lGEU/JlypJPmOcA6Pcm4RHoPa3vEv8OHcm4RHoPa3vEv8ADjyf1VZ2dF/rp/ed7xzyL67+mX2nOAfBYVv626jWyxdlu2Pb3IZLr7KOPrykL2mXVtLyXEH/AFkKx9WBIO5NwiPQe1veJf4cP1VZ2dF/rp/eY8c8i+u/pl9pzgHR7k3CJ9B7W94l/hw7k3CI9B7W94l/hw/VVnZ0X+un95nxzyL67+mX2locEEsaAUHeZ5n1n+7+dZQuQVzwerHuHTjSSj2hdaIqKrFfqD8hMV43Wk8fNffSSVmRZ711PkLfkWMLeYeDp0YQlypJfyIPqSUptr0gAAfY4FNcEksaMRiyZ/zzWOf198Vrrv0lkewsTtCULL4JXiZjftms9oPitNd+ksj2FidoShpOknzWxvZXFE9/NPe+H6/7WckAAUwJ8AAAAAAAAAAAAAAAAAACIassFKsSbFN1xsnpEJs1tq2VpzKaLKT8hl5DGjvkwUT6XNV/e17/AEGdtT/A5/1yB1tkbvFodCLtkGv30uCmQ9pCSeUqfdrikYX1W0prsHUuv0G4H7knxpMGlRbRrzltzbgqEdKP6TiJLMllMd5LxqWo3EmaiMj8uFbgpzUlinxmJko5MhtlCHXjRsG4skkSlbOTxk8njO7I+gBMrdzRErAAAYMgAAAAARW+tR6FYKqVEqEWoVCpV2QuLTKbTmCdky3EINxeyRmlJElBGozUoi/vMiAEqAVtW9fbMoNqUa55VKuZ1+4Hlx6dRGaK+qqyHW8m6lMYyJR7BEZqV83GDIzyWeJM1/Yq1y6XNWJyOdQb9OsFIeksOIkMKhsbZISnaTsLJwlJWSknzbsc4zZmNZH2cFyk1SiaM0unVmmyoEpE+pqUxJZU04klTn1JM0qIjIjSZGXnIyMWwM4af6w8I7ULS227to1pWSuoXPIlPFOcVJaptKhMlgjkp21OKcWtKyTsK2SLBn5QtvhFaj3NH0ruNqg25Fol61d6g1Ns+PdkJktKfI3oyyUlHEqSzkjUSjyeN+MjLTMKSNHgADicgAAAAAAApvgkmR6MRjI8l8M1jtB8Vprv0lkewsTtCULL4JPiYjftmsdoPitNd+ksj2FidoShpOknzWxvZXFE9/NPe+H6/wC1nJAAFMCfAAAAAAAAAAAAAAAAAAAimqBkVmyDM8EUuD1tobwGENT/AAOf9cgdbZG7xaHQjuGv30uCmQ/pB3lT7tcUgAAJkNEAAAAAAAAKz1z0yk6n0emU1u2bXrrEOUb7sWsvyYjhd7hKo8uOSlx1ke8z4tRKLduFmAHIYauZiq3Bi1JlWlaC/jdT6xcdp1GpyGI1Xqc/khQ5hJLkvK2jTJVxRNo2VmRbW8jIi3Du0fg/V+hT9Masyi24SbPerk6tsQHZfFuvTY+wRx+PNxaz2iyo1rTneZFvwNAAM6zMaqMU6X27qTq3wXbJsXTCp0JqFSZMiPdsOsPzYSpRE6biIhLaZNRtLS4RrNCiyWE5+cQnN6TarS7n0M0+uyDb8C44NzJmFTrcZknT2Kehh9ps0LcbSScZSRpPB55ixvGnQGdYaoAAHE5AAAAAAABTfBK8TMb9s1ntB8Vprv0lkewsTtCUJFprSuEvpXbS7Npml9q1WIxUZ8lmW7cpsqcQ9JcdIzQTKsbl+f8AwFb3xU7/AKrr+4/qNa9NoNRTZ0ZDUeBUTmNrY5a+ZLNZoRhW0ay2ccySPO8aTpJ81sb2VxRPezTf+MYde18LOgAAKYE+geFHspNXmLI8jwsjUhSS8pGQLl2mGVvTNRLvTQYF5V2h0kqFNcbQ4qJKcORGS45sJcUhSNlREZlkiVkiPJZwOlTNQpMi/wCuWnUKe1HgUxraZmks8uLJtDi0KI+Y9lZmWPIkxyabY97v2rAsOtJorFKjra5RJjyHXX3mkOcZsJQaEpSajIiMzM8FncY99w6a1esnW1RqkzFXU6wxLbcSo8lG5MmO+g93OptTpEW8t6d5c5SY6ObVTEVqVdwipfiKDi5NRi6lP8OfK/KUdfWX+lK6uaiqmV40qc6es2tVyTSTb1Za8eRbL6tn6eR2P3ZeqxVumrm3PTvgp12upokVlBKWaluNpcb2v7JmSjz5CwJRLvGhQWajJkyHEs0qW3DmL4pRkytaUKIz3fNInUGauYsnnmMRWqac1d5M+TT3oXKU3RGuKA26tRNqJplpBtuGRZTnZXvIj5yHvTZ92v0a54EyRTEyLnnkp1xo1GiPFWw005skpPfLJKFEWcEZ4M8fNHTxuCzbxVb9Iw81Tg3G8Nb/AC3dO9rptpRc7vb5S5OY7GHxGVqNP8KrHWkr+VblspWvZpbWo7PQ/wCJLqPXabX2n5FKeU8zHkLjG7sGSFrQeFbBn84iPJZLdkjwe4dAR6xbfqFqUJNtyn2n41PWpmA8nctcbnQThERFtlkyMy58EfOZiQjTMpUsPRxdSnhJa1NPyX6VzPkW1ra1bY9nMe/hJ1alCMq6tNravQ+dc/8A75QAAOkdgiup/gc/65A62yN3jBerKpCLEmriNJdfTIhG0hStklL5U1gjPyEZ+UaR+OPCm+hWz/exX3AtDoRX+A1++lwUyHtITtlKn2FxSLjAZmtBrUC6OFmuTfyaPGdolpRpzdLbQ9JRBU664hRMO8aSONNRZU7xffIwjYSZbQ0yJlasaIncAADBkAAAAAAAAAAAAAAAAAAAAAAAAAAMoa79JZHsLE7QlDV4yhrv0lkewsTtCUNI0keauM7K4omwZq75w/W/kzkgACmJPYAAAAAECpbFXjawTU1KtLmNv0InmWSb4tqOnlJkSUpyeTwW9Rnkz8xYIvRwGT1joVp66j+HBytZtys0rLmXLe7fvOpicS8PKnHVvrStfZs9v/wnoCE3zczlr0pim1GuFHk1iQ6y3PRFURRGd6jVsp2srSgySk/KoyMyxkh+NE6lHqWm1JNicuWqOTjDri9raNZLUe8z5zwZf4ju1MgVqeSXlZu8NdRVk7NPX8q7SVrxaty35Utl/hDKdOeNWCS8rVcntWxrV2W6pXvyde205AAHgnpAAAARXU/wOf8AXIHW2Ru8YQ1P8Dn/AFyB1tkbvFodCO4a/fS4KZD+kHeVPu1xSOHHsm2ot5y9QWKeaa9OgN0x+VxyzJcZtZrQjYzsFhSjPJFn6x3AATIaIAAAAAAAAAAAAAAAAAAAAAAAAAAAAAAZQ136SyPYWJ2hKGrxlDXfpLI9hYnaEoaRpI81cZ2VxRNgzV3zh+t/JnJAAFMSewAAAA+P4Ip/wudd5OXLjjck43aP+i2trZxnHzt+cZH2AOcKs6d9RtXVnbnXofsOMoRnbWV7bT0Q4MaA0piKlZIW4t09pxSz2lqNSt6jM8ZM93MXMWCHrpVKp9Dp7NLpccmIrBGTbZKNWzkzM95mZ85mPrAcpYirNSjKTak03te1q9m/S1d2ftfpMKnCLTSWxWXsWzYvZsXuQAAHyOYAAAEU1P32bILOP5ZB62yN4DCGp/gc/wCuQOtsjd4tDoR3DX76XBTIf0g7yp92uKQAAEyGiAAAAAAAAAAAAAAAAAAAAAAAAAAAAAAGUNd+ksj2FidoShq8ZQ136SyPYWJ2hKGkaSPNXGdlcUTYM1d84frfyZyQABTEnsAAAAAAAAAAAAAAAAAAIjqvIZiWNMlSXCbZZkwnHFnzJSUpozM/7hpz5VnB0+l63/8Ajn/oMzaopSuzJCFpJSVS4JGRlkjLlbQ2/wDFu3fzBTv4Vv8A0FotCNvANfvpcFMh7SDfwlTt6tcUisLg4VekVDf2YsyrVyK3TSq0udRqa5Liwo6iUbSpDqSw1xhpMk7W7mNRpIyMWdbNfg3XblLuimJdTDq8JmdHJ1JJWTbqCWnaIjMiPCiyWTGSOEPKnac3rf8ATrRq8GIWpNAZhSabItyoyH3Xm4y2W0QFx2zjqNwlEhROLTsKPOD5j1BpVSp1C0wtGiVSOpiZAoUCNIaVztuIYQlST+sjIyEytWRoabbsSkAAcTkAAAAAAAAAAAAAAAAAAAAAAAAAAGUNd+ksj2FidoShq8ZQ136SyPYWJ2hKGkaSPNXGdlcUTYM1d84frfyZyQABTEnsAAAAAAAAAAAAAAAAAAIrqf4HP+uQOtsjd4wfqf4GyN2f5ZB62yN4C0OhHcNfvpcFMh/SDvKn3a4pAAATIaIAAAAAAAAAAAAAAAAAAAAAAAAAAAAAAZQ136SyPYWJ2hKGrxlDXfpLI9hYnaEoaRpI81cZ2VxRNgzV3zh+t/JnJAAFMSewAAAAAAAAAAAAAAAAAAiup/gc/wCuQOtsjd4whqf4HP8ArkDrbI3eLQ6Edw1++lwUyH9IO8qfdrikAHFi3lbk27p9ixqga63TIbM+VG4lZcWw6pSW1bZlsHk0K3EZmWN5EO0JkNEAAAAAAAAAAAAAAAAAAAAAAAAAAAAAAMoa79JZHsLE7QlDV4yhrv0lkewsTtCUNI0keauM7K4omwZq75w/W/kzkgACmJPYAAAAAAAAAAAAAAAAAARDVlg5NiTYyX3GTdkQkE42eFozKaLaSfkMuchor5ONe/7yGrH+bs/dDPWp/gc/65A62yN3i0OhF2yDX76XBTIe0hK+UqfdrikYv1K0jp068dUYlyVSvV962NNY0ynzZcxxLzkxrlS2nnDa2UuuJUksZI/nHu3jVGlkudUNMrSnVN91+ZIocF2Q66eVrcUwg1KUZ+UzMzMSgBMrdzQ1GwAAGDkAAAAAAAAAAAAAAAAAAAAAAAAAAGUNd+ksj2FidoShq8ZQ136SyPYWJ2hKGkaSPNXGdlcUTYM1d84frfyZyQABTEnsAAAAAAAAAAAAAAAAAAIrqf4HP+uQOtsjd4whqf4HP+uQOtsjd4tDoR3DX76XBTIf0g7yp92uKQAAEyGiAAAAAAAAAAAAAAAAAAAAAAAAAAAAAAFUamcHii6l3ozfTt6XHQ6g1S26SZUxccm1sodcdIzJ1pZ52nT5jLcRC1wHxr4ejiqbo14KUHyppNPrT2M506s6M1UpyakuRp2fvRQnySYH0x35+9A/Ch8kmB9Md+fvQPwovsB5PixkTodL8uH2nd8LZQ9fP45fUoT5JMD6Y78/egfhRAj0If7uqdLu6xePwYdqKr3H5hcfx5SyZ2c8n2djZPONnOfL5BrgQE7BrB68J1Q5TE+CytNVC4nbVx/HnLJ7a2dnZ2NksZ2s58nlGVmxkPodL8uH2mHlbKHr5/HL6kC+STA+mO/P3oH4UPkkwPpjvz96B+FF9gMeLGROh0vy4faZ8LZQ9fP45fUoT5JMD6Y78/egfhQ+STA+mO/P3oH4UX2AeLGROh0vy4faPC2UPXz+OX1Mi656FP6YadybvomrF4yZbM2BGS3KOEbZpflNtKMyTHI8klZmW/nxzif/ACSYH0x35+9A/Cid67af1nU7TmVaNBkw2Jj02BJSuWtSW9liU26ojNKVHk0oMi3c+ObnFgDPixkO37nS/Lh9pjwtlC/7efxy+pQnySYH0x35+9A/Ch8kmB9Md+fvQPwovsBjxYyJ0Ol+XD7TPhbKHr5/HL6mf5XA8oFQbRHqmqt7zIxOtPKYcXBJKzbWlaSPZjEeNpJcxkNAAA9HB4DC5Pg6WDpRpxbvaMVFX9Nklt2I6tfEVsTLXrzcnyXbbdv4gAAds+IAAAAAAAAAAAAAAAAAAAAAAAAAAAAAAAAB8FwVCXSKDUqtT6W7UpUKG9IYhMnhclxCDUlpO496jIklu5zFAae8KKXWqRcdcuSpWvJXQLddrcuhxI8un1aE+0k1ORlsyTUTySLBcek0ltY7zBkY0PUITNSgSKdIW8hqU0plamXltOElRYM0rQZKSe/caTIy8hiu6VoDZsWoLqVfqdcul4qU9Q4/w5LS/wAmgulh1lJpQk1bRYI1uGteC+dvPOVbnMO/MU1S+Epfd62XfFMrMGmQ5DtiVO4aTU7eVMb5AtMdRlHeW8lP8oTtJUTjZ7Pe7hxG72vaHWpV1JvW4nHbZ0WhXDGhqqTqoj9QWy4k332TM0PK3krKiyakkZmeBe9u8HS0rcoNftlq670n06vUl6icnqNdcktwITiDRxUZtRbCNlKsJNSVGWOfGSOM03Rqu0HWciZtlirafzrFjWfKkSqghLzbbPGfOaJOXNothJmWzjaM/Jgcro4WZBLeYu2HVn9PZmqd6VGHc+mTV3vzHawvlcSoodLaVFeThTLSiPBtp3YLAvDg6VSp1vQuxqvWqjKnzpdFjOyJUp5TrryzTvUtajM1GfnM8iPRdCadpbbNxT9N4FVui4p1KKjwG67XDPk0LOExGXVpMmmUbSlEnBmZpIjPmMpfohalYsbSK0rPuBptqpUilMRJSG3CWlLiU4MiUW4y+sYb2GUmmVrqNwiLgsvVKXZUqRbNtwoy4JQHbkjzGma0h0iN5bU5v8jH4vJpwtDmVJPmLOOPqDwrLmtnUWuUWg0CizKHak2LBqEZ0pS6pUDdShTjkU2kGygm0uEeHDyrZPGMi0730NtrUCXPOv3Fc50ur8T8J0ZupGcGWTRkaCNC0qU0W4skypvaxvyY+ercHuzKjeir2g1u6qG/JWw5Pg0atPQ4dQWykktKfbbwZmlKUllJpyRb87wug1Io3VW6bweq2pVIiXtcdPYTf1rUyOqFVHmHIkaRHa45tlSVfkyUajMyTgjPeZGJ9qDK1PtzW/SqjFdZs2c/UV05mI1IdVLqRtwFKW7OcMyJeFlgkbyMy2zPOCL6tatDapPpVYrmm8Fyp1+t3RRrgmRJk5DDKuQklJJbWae8I0oLOdo8mZ/ULKq9iwb1qNnXZcrMmDVrXeVUWIseQlbSJDrBtuNrUafyiUkpREZbOTIj+oLoWZXeka6xTuEPq7a8i6q9VKZDbpE2HHqVRdkoiLktuuuJZSs8NoyeCSkiwSUl5BeQqHS+zr8ha1al6g3Zb8WlwLiKnRaYlmemSp5uKlxvjFYIjQakmhWyZbtrGTxkW8MM5RAAAwZAAAAAAAAAAAAAAAAAAAAAAAAAAAAAAAAAAAAAAAAAAAAAAAAAAAAAAAAAAAAAAAAAAP/Z)"
      ]
    },
    {
      "cell_type": "code",
      "execution_count": null,
      "metadata": {
        "colab": {
          "base_uri": "https://localhost:8080/"
        },
        "id": "1sE5ilcVuMLO",
        "outputId": "fbb20795-e8f0-4e2d-9713-4aff85dc14bb"
      },
      "outputs": [
        {
          "output_type": "stream",
          "name": "stdout",
          "text": [
            "In: 0 | Sel: 000 -> a: 0, b: 0, c: 0, d: 0, e: 0, f: 0, g: 0, h: 0\n",
            "In: 0 | Sel: 001 -> a: 0, b: 0, c: 0, d: 0, e: 0, f: 0, g: 0, h: 0\n",
            "In: 0 | Sel: 010 -> a: 0, b: 0, c: 0, d: 0, e: 0, f: 0, g: 0, h: 0\n",
            "In: 0 | Sel: 011 -> a: 0, b: 0, c: 0, d: 0, e: 0, f: 0, g: 0, h: 0\n",
            "In: 0 | Sel: 100 -> a: 0, b: 0, c: 0, d: 0, e: 0, f: 0, g: 0, h: 0\n",
            "In: 0 | Sel: 101 -> a: 0, b: 0, c: 0, d: 0, e: 0, f: 0, g: 0, h: 0\n",
            "In: 0 | Sel: 110 -> a: 0, b: 0, c: 0, d: 0, e: 0, f: 0, g: 0, h: 0\n",
            "In: 0 | Sel: 111 -> a: 0, b: 0, c: 0, d: 0, e: 0, f: 0, g: 0, h: 0\n",
            "In: 1 | Sel: 000 -> a: 1, b: 0, c: 0, d: 0, e: 0, f: 0, g: 0, h: 0\n",
            "In: 1 | Sel: 001 -> a: 0, b: 0, c: 0, d: 0, e: 1, f: 0, g: 0, h: 0\n",
            "In: 1 | Sel: 010 -> a: 0, b: 0, c: 1, d: 0, e: 0, f: 0, g: 0, h: 0\n",
            "In: 1 | Sel: 011 -> a: 0, b: 0, c: 0, d: 0, e: 0, f: 0, g: 1, h: 0\n",
            "In: 1 | Sel: 100 -> a: 0, b: 1, c: 0, d: 0, e: 0, f: 0, g: 0, h: 0\n",
            "In: 1 | Sel: 101 -> a: 0, b: 0, c: 0, d: 0, e: 0, f: 1, g: 0, h: 0\n",
            "In: 1 | Sel: 110 -> a: 0, b: 0, c: 0, d: 1, e: 0, f: 0, g: 0, h: 0\n",
            "In: 1 | Sel: 111 -> a: 0, b: 0, c: 0, d: 0, e: 0, f: 0, g: 0, h: 1\n"
          ]
        }
      ],
      "source": [
        "\n",
        "\n",
        "# Casos de prueba\n",
        "casos = [\n",
        "    (0, [0, 0, 0]),  # Entrada 0, selector [000] -> (0, 0, 0, 0, 0, 0, 0, 0)\n",
        "    (0, [0, 0, 1]),  # Entrada 0, selector [001] -> (0, 0, 0, 0, 0, 0, 0, 0)\n",
        "    (0, [0, 1, 0]),  # Entrada 0, selector [010] -> (0, 0, 0, 0, 0, 0, 0, 0)\n",
        "    (0, [0, 1, 1]),  # Entrada 0, selector [011] -> (0, 0, 0, 0, 0, 0, 0, 0)\n",
        "    (0, [1, 0, 0]),  # Entrada 0, selector [100] -> (0, 0, 0, 0, 0, 0, 0, 0)\n",
        "    (0, [1, 0, 1]),  # Entrada 0, selector [101] -> (0, 0, 0, 0, 0, 0, 0, 0)\n",
        "    (0, [1, 1, 0]),  # Entrada 0, selector [110] -> (0, 0, 0, 0, 0, 0, 0, 0)\n",
        "    (0, [1, 1, 1]),  # Entrada 0, selector [111] -> (0, 0, 0, 0, 0, 0, 0, 0)\n",
        "    (1, [0, 0, 0]),  # Entrada 1, selector [000] -> (1, 0, 0, 0, 0, 0, 0, 0)\n",
        "    (1, [0, 0, 1]),  # Entrada 1, selector [001] -> (0, 1, 0, 0, 0, 0, 0, 0)\n",
        "    (1, [0, 1, 0]),  # Entrada 1, selector [010] -> (0, 0, 1, 0, 0, 0, 0, 0)\n",
        "    (1, [0, 1, 1]),  # Entrada 1, selector [011] -> (0, 0, 0, 1, 0, 0, 0, 0)\n",
        "    (1, [1, 0, 0]),  # Entrada 1, selector [100] -> (0, 0, 0, 0, 1, 0, 0, 0)\n",
        "    (1, [1, 0, 1]),  # Entrada 1, selector [101] -> (0, 0, 0, 0, 0, 1, 0, 0)\n",
        "    (1, [1, 1, 0]),  # Entrada 1, selector [110] -> (0, 0, 0, 0, 0, 0, 1, 0)\n",
        "    (1, [1, 1, 1]),  # Entrada 1, selector [111] -> (0, 0, 0, 0, 0, 0, 0, 1)\n",
        "]\n",
        "\n",
        "# Ejecutar pruebas\n",
        "for inp, sel in casos:\n",
        "    salida = DMUX8Way(inp, sel)\n",
        "    print(f\"In: {inp} | Sel: {''.join(map(str, sel))} -> a: {salida[0]}, b: {salida[1]}, c: {salida[2]}, d: {salida[3]}, e: {salida[4]}, f: {salida[5]}, g: {salida[6]}, h: {salida[7]}\")\n"
      ]
    }
  ],
  "metadata": {
    "colab": {
      "provenance": [],
      "include_colab_link": true
    },
    "kernelspec": {
      "display_name": "Python 3",
      "name": "python3"
    },
    "language_info": {
      "name": "python"
    }
  },
  "nbformat": 4,
  "nbformat_minor": 0
}