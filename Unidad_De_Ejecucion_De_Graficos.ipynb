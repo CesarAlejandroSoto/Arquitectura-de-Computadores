{
  "nbformat": 4,
  "nbformat_minor": 0,
  "metadata": {
    "colab": {
      "provenance": [],
      "authorship_tag": "ABX9TyOAFWd5MFiHqRta9NUa0U9S",
      "include_colab_link": true
    },
    "kernelspec": {
      "name": "python3",
      "display_name": "Python 3"
    },
    "language_info": {
      "name": "python"
    }
  },
  "cells": [
    {
      "cell_type": "markdown",
      "metadata": {
        "id": "view-in-github",
        "colab_type": "text"
      },
      "source": [
        "<a href=\"https://colab.research.google.com/github/CesarAlejandroSoto/Arquitectura-de-Computadores/blob/main/Unidad_De_Ejecucion_De_Graficos.ipynb\" target=\"_parent\"><img src=\"https://colab.research.google.com/assets/colab-badge.svg\" alt=\"Open In Colab\"/></a>"
      ]
    },
    {
      "cell_type": "markdown",
      "source": [
        "# **CODIGO DE SIMULACION DE UNA GPU**"
      ],
      "metadata": {
        "id": "xoqcqo8XbfiG"
      }
    },
    {
      "cell_type": "code",
      "source": [
        "import pygame\n",
        "from pygame.locals import *\n",
        "from OpenGL.GL import *\n",
        "from OpenGL.GLU import *\n",
        "from OpenGL.GLUT import *\n",
        "from OpenGL.GLUT import GLUT_BITMAP_HELVETICA_18\n",
        "import random\n",
        "\n",
        "\n"
      ],
      "metadata": {
        "id": "SXkMEnHybt_g"
      },
      "execution_count": 2,
      "outputs": []
    },
    {
      "cell_type": "code",
      "source": [
        "import pygame\n",
        "from pygame.locals import *\n",
        "from OpenGL.GL import *\n",
        "from OpenGL.GLU import *\n",
        "from OpenGL.GLUT import *\n",
        "from OpenGL.GLUT import GLUT_BITMAP_HELVETICA_18\n",
        "import random\n",
        "\n",
        "class UnidadProcesamientoGrafico:\n",
        "    def __init__(self):\n",
        "        pygame.init()\n",
        "        glutInit()\n",
        "        self.display = (800, 600)\n",
        "        pygame.display.set_mode(self.display, DOUBLEBUF | OPENGL)#Configuración de la ventana\n",
        "        gluPerspective(45, (self.display[0] / self.display[1]), 0.1, 50.0)#Perspectiva de la cámara\n",
        "        glTranslatef(0.0, 0.0, -5)  # Mover la cámara hacia atrás\n",
        "\n",
        "        self.memoria = []  # Memoria ALU\n",
        "        self.angulo = 0  # Ángulo de rotación del cubo\n",
        "        self.inicializar_pipeline()\n",
        "\n",
        "    def inicializar_pipeline(self): #Activa el buffer de profundidad\n",
        "        glEnable(GL_DEPTH_TEST)\n",
        "\n",
        "    def ejecutar_alu(self):\n",
        "        \"\"\"Simula operaciones matemáticas de la ALU y almacena resultados en la memoria\"\"\"\n",
        "        a, b = random.randint(1, 15), random.randint(1, 15)\n",
        "        resultado = a + b\n",
        "        print(f\"ALU: {a} + {b} = {resultado}\")  # Mostrar en la terminal\n",
        "        self.memoria.append(resultado)\n",
        "        if len(self.memoria) > 5:\n",
        "            self.memoria.pop(0)  # Mantener solo los últimos 5 valores\n",
        "\n",
        "    def dibujar_texto(self, texto, x, y):\n",
        "        \"\"\"Dibuja texto en la pantalla en coordenadas fijas\"\"\"\n",
        "        glWindowPos2f(x, y)  # Ubicación en la ventana\n",
        "        for char in texto:\n",
        "            glutBitmapCharacter(GLUT_BITMAP_HELVETICA_18, ord(char))#Dibuja el texto en la ventana\n",
        "\n",
        "    def dibujar_memoria(self):\n",
        "        \"\"\"Muestra los últimos 5 valores de memoria en la parte superior derecha\"\"\"\n",
        "        glColor3f(1, 1, 1)  # Texto en blanco\n",
        "        x, y = 650, 550  # Coordenadas en la pantalla\n",
        "\n",
        "        self.dibujar_texto(\"Memoria:\", x, y)\n",
        "        for i, dato in enumerate(reversed(self.memoria)):  # Recorrer la memoria\n",
        "            self.dibujar_texto(f\"{dato}\", x, y - (i + 1) * 20)  # Espaciado entre líneas\n",
        "\n",
        "    def dibujar_cubo(self):\n",
        "        \"\"\"Dibuja un cubo que rota continuamente\"\"\"\n",
        "        glBegin(GL_QUADS) # Dibujar caras del cubo\n",
        "        glColor3f(1, 0, 0)  # Rojo\n",
        "        vertices = [\n",
        "            [1, 1, -1], [1, -1, -1], [-1, -1, -1], [-1, 1, -1],\n",
        "            [1, 1, 1], [1, -1, 1], [-1, -1, 1], [-1, 1, 1]\n",
        "        ]\n",
        "        caras = [(0, 1, 2, 3), (4, 5, 6, 7), (0, 4, 7, 3), (1, 5, 6, 2), (3, 7, 6, 2), (0, 4, 5, 1)]\n",
        "        for cara in caras:\n",
        "            for i in cara:\n",
        "                glVertex3fv(vertices[i]) # Dibujar vértices\n",
        "        glEnd()\n",
        "\n",
        "    def ejecutar(self):\n",
        "        \"\"\"Bucle principal de ejecución\"\"\"\n",
        "        while True:\n",
        "            for event in pygame.event.get():\n",
        "                if event.type == pygame.QUIT: # Salir del programa\n",
        "                    pygame.quit()\n",
        "                    quit()\n",
        "\n",
        "            self.ejecutar_alu()  # Generar valores en la ALU\n",
        "            self.angulo += 1  # Incrementar ángulo de rotación\n",
        "\n",
        "            glClear(GL_COLOR_BUFFER_BIT | GL_DEPTH_BUFFER_BIT) # Limpiar pantalla\n",
        "            glPushMatrix()  # Guardar estado antes de rotar el cubo\n",
        "            glRotatef(self.angulo, 3, 1, 1)  # Aplicar rotación\n",
        "            self.dibujar_cubo()\n",
        "            glPopMatrix()  # Restaurar estado después del cubo\n",
        "\n",
        "            self.dibujar_memoria()  # Dibujar la memoria en pantalla\n",
        "            pygame.display.flip()\n",
        "            pygame.time.wait(500)  # Control de velocidad\n",
        "\n",
        "# Instanciar la GPU y ejecutar el renderizado\n",
        "gpu = UnidadProcesamientoGrafico()\n",
        "gpu.ejecutar()\n"
      ],
      "metadata": {
        "id": "Q_30tzBndmM4"
      },
      "execution_count": null,
      "outputs": []
    }
  ]
}